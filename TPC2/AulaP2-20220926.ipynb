{
 "cells": [
  {
   "cell_type": "markdown",
   "id": "1e545158",
   "metadata": {},
   "source": [
    "# Aula Prática 2 (guião)\n",
    "### Semana de 26 a 30 de Setembro de 2022\n",
    "### José Carlos Ramalho e Luís Cunha\n",
    "### Sinopsis:\n",
    "Algoritmos de cálculo numérico envolvendo estruturas condicionais (if-elif-else) e cíclicas (while)."
   ]
  },
  {
   "cell_type": "markdown",
   "id": "e38d18c4-d7d7-4fea-9bc6-e3f3c903386b",
   "metadata": {},
   "source": [
    "### Exercício 1: Soma de N números\n",
    "- Leia um número N;\n",
    "- Leia N números;\n",
    "- Imprima a soma dos N números."
   ]
  },
  {
   "cell_type": "code",
   "execution_count": 16,
   "id": "af973146-3bb4-4fa8-ba6c-b887b79ccff8",
   "metadata": {},
   "outputs": [
    {
     "name": "stdout",
     "output_type": "stream",
     "text": [
      "2\n",
      "3\n"
     ]
    }
   ],
   "source": [
    "# Solução do exercício 1\n",
    "N= int(input (\"Insira um número\"))\n",
    "print(N)\n",
    "soma=0\n",
    "while(N>0):\n",
    "    N=N-1\n",
    "    num=int(input(\"insira o valor\"))\n",
    "    soma= soma + num\n",
    "   \n",
    "print (soma)"
   ]
  },
  {
   "cell_type": "markdown",
   "id": "bdcbffb0",
   "metadata": {},
   "source": [
    "### Exercício 2: O Maior de N números\n",
    "- Leia um número N;\n",
    "- Leia N números;\n",
    "- Imprima o maior dos N números."
   ]
  },
  {
   "cell_type": "code",
   "execution_count": 1,
   "id": "af973146-3bb4-4fa8-ba6c-b887b79ccff8",
   "metadata": {},
   "outputs": [
    {
     "name": "stdout",
     "output_type": "stream",
     "text": [
      "4\n"
     ]
    }
   ],
   "source": [
    "# Solução do exercício 2\n",
    "n=int(input (\"Leia um número\"))\n",
    "maior=0\n",
    "\n",
    "\n",
    "while (n>0):\n",
    "    num=int(input(\"Insira um número\"))\n",
    "    if num>maior:\n",
    "        maior=num\n",
    "    n=n-1\n",
    "\n",
    "print (maior)\n",
    "\n",
    "\n",
    "\n",
    "\n",
    "\n",
    "\n",
    "\n"
   ]
  },
  {
   "cell_type": "markdown",
   "id": "bdcbffb0",
   "metadata": {},
   "source": [
    "### Exercício 3: O Menor de N números\n",
    "- Leia um número N;\n",
    "- Leia N números;\n",
    "- Imprima o menor dos N números."
   ]
  },
  {
   "cell_type": "code",
   "execution_count": 9,
   "id": "64ad6f7b",
   "metadata": {},
   "outputs": [
    {
     "name": "stdout",
     "output_type": "stream",
     "text": [
      "4\n"
     ]
    }
   ],
   "source": [
    "# Solução do exercício 3\n",
    "N=int(input(\"Insira um valor\"))\n",
    "i=0\n",
    "\n",
    "menor=N\n",
    "\n",
    "while (i<N):\n",
    "    num=int(input(\"Insira um número\"))\n",
    "    i=i+1\n",
    "    if num<menor:\n",
    "        menor=num\n",
    "        \n",
    "print(menor)\n",
    "\n",
    "\n",
    "\n",
    "\n"
   ]
  },
  {
   "cell_type": "markdown",
   "id": "bdcbffb0",
   "metadata": {},
   "source": [
    "### Exercício 4: A Média de N números\n",
    "- Leia um número N;\n",
    "- Leia N números;\n",
    "- Imprima a média dos N números."
   ]
  },
  {
   "cell_type": "code",
   "execution_count": 36,
   "id": "a6c32b2e",
   "metadata": {},
   "outputs": [
    {
     "name": "stdout",
     "output_type": "stream",
     "text": [
      "3.0\n"
     ]
    }
   ],
   "source": [
    "# Solução do exercício 4\n",
    "N=int(input(\"insira um número\"))\n",
    "\n",
    "soma = i = média = 0\n",
    "\n",
    "while (i<N):\n",
    "    num=int(input(\"Insira um valor\"))\n",
    "    soma=soma+num\n",
    "    i=i+1\n",
    "\n",
    "média=soma/i\n",
    "print(média)\n"
   ]
  },
  {
   "cell_type": "markdown",
   "id": "f41ef69b",
   "metadata": {},
   "source": [
    "### Exercício 5: Potência\n",
    "- Defina uma função **pot** que recebe dois parâmetros, **a** e **b**, e retorna o resultado de **a elevado à potência de b**.\n",
    "- Use esta função para escrever no monitor as potências de 2 com expoentes de 1 a 20."
   ]
  },
  {
   "cell_type": "code",
   "execution_count": 50,
   "id": "86f5b24d",
   "metadata": {},
   "outputs": [
    {
     "name": "stdout",
     "output_type": "stream",
     "text": [
      "2\n",
      "4\n",
      "8\n",
      "16\n",
      "32\n",
      "64\n",
      "128\n",
      "256\n",
      "512\n",
      "1024\n",
      "2048\n",
      "4096\n",
      "8192\n",
      "16384\n",
      "32768\n",
      "65536\n",
      "131072\n",
      "262144\n",
      "524288\n",
      "1048576\n"
     ]
    }
   ],
   "source": [
    "# Solução do exercício 5\n",
    "\n",
    "def pot(a,b):\n",
    "    return (a**b)\n",
    "a=2\n",
    "\n",
    "for b in range (1,21):\n",
    "    print (a**b)\n",
    "\n",
    "\n",
    "\n"
   ]
  },
  {
   "cell_type": "markdown",
   "id": "d11cdd11",
   "metadata": {},
   "source": [
    "### Exercício 6: Série numérica\n",
    "- Defina uma função **serie** que recebe três parâmetros, **base**, **salto** e **nelems**, e escreve no monitor a série;\n",
    "- Invocada com: **serie(7, 4, 5)** escreveria: 7, 11, 15, 19, 23"
   ]
  },
  {
   "cell_type": "code",
   "execution_count": 3,
   "id": "7549c7d7",
   "metadata": {},
   "outputs": [
    {
     "name": "stdout",
     "output_type": "stream",
     "text": [
      "7\n",
      "11\n",
      "15\n",
      "19\n",
      "23\n"
     ]
    }
   ],
   "source": [
    "# Solução do exercício 6\n",
    "def serie(b,s,n):\n",
    "    return b+s*n\n",
    "for n in range (0,5):\n",
    "    print (serie(7,4,n))\n",
    "    \n"
   ]
  },
  {
   "cell_type": "markdown",
   "id": "73187e87",
   "metadata": {},
   "source": [
    "### Exercício 7: Desenhar um quadrado\n",
    "- Defina uma função **quad** que recebe um argumento, **n**, e desenha no monitor um quadrado usando o caráter '#';\n",
    "- O resultado da invocação dessa função com um argumento 3 deverá ser:\n",
    "```\n",
    "###\n",
    "###\n",
    "###\n",
    "```"
   ]
  },
  {
   "cell_type": "code",
   "execution_count": 14,
   "id": "a31f8eaf",
   "metadata": {},
   "outputs": [
    {
     "name": "stdout",
     "output_type": "stream",
     "text": [
      "###\n",
      "###\n",
      "###\n"
     ]
    }
   ],
   "source": [
    "# Solução do exercício 7\n",
    "def quad(n):\n",
    "    print('#'*n)\n",
    "    for _ in range(n-2):\n",
    "        print ('#'*n)\n",
    "    print('#'*n)\n",
    "quad(3)\n",
    "\n",
    "\n",
    "\n"
   ]
  },
  {
   "cell_type": "markdown",
   "id": "10b1d00c",
   "metadata": {},
   "source": [
    "### Exercício 8: Desenhar um quadrado\n",
    "- Defina uma função que desenhe no ecran (usando os caracteres # e _) um tabuleiro de xadrez; \n",
    "- O resultado da invocação dessa função com um argumento 5 deverá ser:\n",
    "```\n",
    "#_#_#\n",
    "_#_#_\n",
    "#_#_#\n",
    "_#_#_\n",
    "#_#_#\n",
    "```"
   ]
  },
  {
   "cell_type": "code",
   "execution_count": 2,
   "id": "a4ccf6e1",
   "metadata": {},
   "outputs": [
    {
     "name": "stdout",
     "output_type": "stream",
     "text": [
      "#_#_#\n",
      "_#_#_\n",
      "#_#_#\n",
      "_#_#_\n",
      "#_#_#\n"
     ]
    }
   ],
   "source": [
    "# Solução do exercício 8\n",
    "def xad(n):\n",
    "    for i in range(n):\n",
    "        for j in range (n):\n",
    "            if ((i+j)%2) == 0:\n",
    "                print (\"#\", end=\"\")\n",
    "            else:\n",
    "                print (\"_\", end=\"\")\n",
    "        print(\"\")\n",
    "xad(5)"
   ]
  },
  {
   "cell_type": "markdown",
   "id": "f4e2bc84",
   "metadata": {},
   "source": [
    "### Exercício 9: Índice de Massa Corporal\n",
    "- Defina uma função **imc** que recebe dois parâmetros, **peso**,**altura**, calcula o IMC corresponente e interpreta esse resultado.\n",
    "- imc(53,1.56) - Output: \"O seu índice de massa corporal é **21.78** e encontra-se na categoria **Normal**\"\n",
    "- imc(83,1.56) - Output: \"O seu índice de massa corporal é **34.11** e encontra-se na categoria **Obesidade grau I**\"\n",
    "\n",
    "Valores:\n",
    "- Menor que 18,5 - Baixo peso\n",
    "- 18,5 a 24,9 - Normal\n",
    "- 25 a 29,9\t- Excesso de peso\n",
    "- 30 a 34,9\t- Obesidade grau I\n",
    "- 35 a 39,9\t- Obesidade grau II\n",
    "- Maior que 40\t- Obesidade grau III"
   ]
  },
  {
   "cell_type": "code",
   "execution_count": 3,
   "id": "2a62004a",
   "metadata": {},
   "outputs": [
    {
     "name": "stdout",
     "output_type": "stream",
     "text": [
      "O seu índice de massa corporal é 23.09 e encontra-se na categoria Normal\n"
     ]
    }
   ],
   "source": [
    "# Solução do exercício 9\n",
    "peso=p=float(input(\"Introduza o seu peso\"))\n",
    "altura=h=float(input(\"Introduza a sua altura\"))\n",
    "imc=p/(h**2)\n",
    "if imc<18.5:\n",
    "    print (\"O seu índice de massa corporal é\", round(imc,2), \"e encontra-se na categoria Baixo Peso\")\n",
    "elif imc<24.9:\n",
    "    print (\"O seu índice de massa corporal é\", round(imc,2), \"e encontra-se na categoria Normal\")\n",
    "elif imc<29.9:\n",
    "    print (\"O seu índice de massa corporal é\", round(imc,2), \"e encontra-se na categoria Excesso de Peso\")\n",
    "elif imc<34.9:\n",
    "    print (\"O seu índice de massa corporal é\", round(imc,2), \"e encontra-se na categoria Obesidade grau I\")\n",
    "elif imc<39.9:\n",
    "    print (\"O seu índice de massa corporal é\", round(imc,2), \"e encontra-se na categoria Obesidade grau II\")\n",
    "elif imc>40:\n",
    "    print (\"O seu índice de massa corporal é\", round(imc,2), \"e encontra-se na categoria Obesidade Grau III\")"
   ]
  },
  {
   "cell_type": "markdown",
   "id": "5dcb3573",
   "metadata": {},
   "source": [
    "### Exercício 10: Série de Fibonacci\n",
    "- Defina uma função **fib** que recebe um argumento, **n**, e escreve no monitor os primeiros n elementos da série de fibonacci;\n",
    "- A série de Fibonacci tem a seguinte definição matemática:\n",
    "    - Se n < 2 ==> 1\n",
    "    - Se n >= 2 ==> fib(n-1) + fib(n-2)"
   ]
  },
  {
   "cell_type": "code",
   "execution_count": 1,
   "id": "fc54507c",
   "metadata": {},
   "outputs": [
    {
     "data": {
      "text/plain": [
       "[1, 1, 2, 3, 5, 8, 13, 21, 34, 55]"
      ]
     },
     "execution_count": 1,
     "metadata": {},
     "output_type": "execute_result"
    }
   ],
   "source": [
    "# Solução do exercício 10\n",
    "def fib(n):\n",
    "    if n<2:\n",
    "        return 1\n",
    "    if n>=2:\n",
    "        return fib(n-1) + fib(n-2)\n",
    "\n",
    "[fib(n) for n in range (10)]\n"
   ]
  },
  {
   "cell_type": "markdown",
   "id": "c10a9e44",
   "metadata": {},
   "source": [
    "### Exercício 11: Potência (recursiva)\n",
    "- Revisitando o problema da potência:\n",
    "    - Defina uma função **pot** que recebe dois parâmetros, **a** e **b**, e retorna o resultado de **a elevado à potência de b**;\n",
    "    - Defina esta função de forma recursiva."
   ]
  },
  {
   "cell_type": "code",
   "execution_count": 4,
   "id": "00146b49",
   "metadata": {},
   "outputs": [
    {
     "name": "stdout",
     "output_type": "stream",
     "text": [
      "O resultado obtido é 8\n"
     ]
    }
   ],
   "source": [
    "# Solução do exercício 11\n",
    "def pot (a,b):\n",
    "    if b==0:\n",
    "        return 1\n",
    "    else:\n",
    "        return a*pot(a,b-1)\n",
    "base=a=int(input(\"Introduza a base\"))\n",
    "expoente=b=int(input(\"Introduza o expoente\"))\n",
    "resultado=pot(base,expoente)\n",
    "print (\"O resultado obtido é\", resultado)"
   ]
  },
  {
   "cell_type": "markdown",
   "id": "81703f1b",
   "metadata": {},
   "source": [
    "### TPC2: Adivinha o número\n",
    "- Crie um programa em Python para jogar o jogo \"Adivinha o número\":\n",
    "    - O jogo pode ter 2 modalidades: computador pensa num número (entre 0 e 100), utilizador tenta adivinhar; ou, o utilizador pensa num número (entre 0 e 100) e o computador tenta adivinhar;\n",
    "    - Quem tenta adivinhar responde com uma das afirmações: \"Acertou\", \"O número que pensei é Maior\" ou \"O número que pensei é Menor\";\n",
    "    - Uma vez descoberto o número o programa deverá terminar imprimindo o número de tentativas que quem adivinhou usou para chegar ao resultado."
   ]
  },
  {
   "cell_type": "code",
   "execution_count": 5,
   "id": "98314e27",
   "metadata": {},
   "outputs": [
    {
     "name": "stdout",
     "output_type": "stream",
     "text": [
      "Bem vindo ao jogo \"Adivinha o número\"! \n",
      "Terás de adivinhar o número que o computador escolheu. \n",
      "Não te esqueças que se encontra entre 0 e 100, inclusive! \n",
      "Ah, e terás 5 tentativas! \n",
      "Boa sorte!\n",
      "\n",
      "12\n",
      "Falhaste!\n",
      "Insere um número maior. Ainda tens 4 tentativas.\n",
      "\n",
      "54\n",
      "Falhaste!\n",
      "Insere um número menor. Ainda tens 3 tentativas.\n",
      "\n",
      "45\n",
      "Falhaste!\n",
      "Insere um número maior. Ainda tens 2 tentativas.\n",
      "\n",
      "50\n",
      "Falhaste!\n",
      "Insere um número menor. Ainda tens 1 tentativas.\n",
      "\n",
      "48\n",
      "Falhaste!\n",
      "Jogo Terminado! Esgoaste todas as tentativas!\n"
     ]
    }
   ],
   "source": [
    "#Jogo \"Adivinha o número\"\n",
    "import random \n",
    "target= random.randint(1,100)\n",
    "contador=0\n",
    "tentativas=5\n",
    "\n",
    "print (\"\"\"Bem vindo ao jogo \"Adivinha o número\"! \n",
    "Terás de adivinhar o número que o computador escolheu. \n",
    "Não te esqueças que se encontra entre 0 e 100, inclusive! \n",
    "Ah, e terás 5 tentativas! \n",
    "Boa sorte!\"\"\")\n",
    "\n",
    "print(\"\")\n",
    "\n",
    "\n",
    "while tentativas >= 1:\n",
    "    escolhadojogador = int(input(\"Introduza o número\"))\n",
    "    print (escolhadojogador)\n",
    "    contador=contador+1\n",
    "\n",
    "    if target > escolhadojogador:\n",
    "        print(\"Falhaste!\")\n",
    "        tentativas= tentativas-1\n",
    "\n",
    "        if tentativas>0:\n",
    "            print(\"Insere um número maior. Ainda tens\",tentativas,\"tentativas.\")\n",
    "            print(\"\")\n",
    "            \n",
    "        else:\n",
    "            print(\"Jogo Terminado! Esgoaste todas as tentativas!\")\n",
    "\n",
    "    if target < escolhadojogador:\n",
    "        print(\"Falhaste!\")\n",
    "        tentativas= tentativas-1\n",
    "\n",
    "        if tentativas>0:\n",
    "            print(\"Insere um número menor. Ainda tens\",tentativas,\"tentativas.\")\n",
    "            print(\"\")\n",
    "        else:\n",
    "            print(\"Jogo Terminado! Esgoaste todas as tentativas!\")\n",
    "            \n",
    "\n",
    "    if target == escolhadojogador:\n",
    "        tentativas= tentativas-1\n",
    "        print(\"Parabéns! Acertaste depois de\",contador,\"tentativas! O número escolhido pelo computador foi:\",target,\".\")\n",
    "        break; \n",
    "    "
   ]
  }
 ],
 "metadata": {
  "kernelspec": {
   "display_name": "Python 3.10.7 64-bit",
   "language": "python",
   "name": "python3"
  },
  "language_info": {
   "codemirror_mode": {
    "name": "ipython",
    "version": 3
   },
   "file_extension": ".py",
   "mimetype": "text/x-python",
   "name": "python",
   "nbconvert_exporter": "python",
   "pygments_lexer": "ipython3",
   "version": "3.10.7"
  },
  "vscode": {
   "interpreter": {
    "hash": "c6150b4f9d56d789d4d0d45fd785049c780a926bdb2d0e3334e0f685d1f903a3"
   }
  }
 },
 "nbformat": 4,
 "nbformat_minor": 5
}

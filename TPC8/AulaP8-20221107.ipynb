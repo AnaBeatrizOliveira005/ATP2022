{
 "cells": [
  {
   "cell_type": "markdown",
   "id": "1e545158",
   "metadata": {},
   "source": [
    "# Aula Prática 8 (guião)\n",
    "### Semana de 7 de Novembro a 11 de Novembro de 2022\n",
    "### José Carlos Ramalho e Luís Cunha\n",
    "### Sinopsis:\n",
    "Consolidação e aferição de tudo o que foi feito até ao momento. "
   ]
  },
  {
   "cell_type": "markdown",
   "id": "9b9b5140-2b81-435e-9fc0-324437a7b453",
   "metadata": {},
   "source": [
    "### Assunto: Frações\n",
    "Vamos pensar num modelo: o que é uma fração estruturalmente?"
   ]
  },
  {
   "cell_type": "code",
   "execution_count": 36,
   "id": "5a6da5eb",
   "metadata": {},
   "outputs": [],
   "source": [
    "# Modelo duma fração\n",
    "#Estruturas de dados para construir frações = tuplos \n",
    "f1 = (1,2)\n",
    "# Modelo duma lista de frações\n",
    "listaFrac = [(1,2),(3,2),(1,3)]"
   ]
  },
  {
   "cell_type": "markdown",
   "id": "d477052b-e074-4a5d-ac12-85c2286a1e5f",
   "metadata": {},
   "source": [
    "### Construtor"
   ]
  },
  {
   "cell_type": "code",
   "execution_count": 37,
   "id": "33d1c7e9-22af-4473-9b21-3e7ce0fcf571",
   "metadata": {},
   "outputs": [
    {
     "name": "stdout",
     "output_type": "stream",
     "text": [
      "(1, 2)\n",
      "1/2 \n",
      "1/2 3/2 1/3 "
     ]
    }
   ],
   "source": [
    "def criarFracao(numerador, denominador):\n",
    "    return (numerador,denominador)\n",
    "\n",
    "f2 = criarFracao(1,2)\n",
    "print(f2)\n",
    "\n",
    "def verFracao(f):\n",
    "    print(f[0],\"/\",f[1], end=\" \",sep=\"\")\n",
    "\n",
    "verFracao(f2)\n",
    "print()\n",
    "\n",
    "def verListaFracao(f):\n",
    "    for i in f:\n",
    "        verFracao(i)\n",
    "\n",
    "verListaFracao(listaFrac)\n",
    "\n"
   ]
  },
  {
   "cell_type": "code",
   "execution_count": 35,
   "id": "d46df3ff",
   "metadata": {},
   "outputs": [
    {
     "ename": "NameError",
     "evalue": "name 'criarFracao' is not defined",
     "output_type": "error",
     "traceback": [
      "\u001b[1;31m---------------------------------------------------------------------------\u001b[0m",
      "\u001b[1;31mNameError\u001b[0m                                 Traceback (most recent call last)",
      "Cell \u001b[1;32mIn [35], line 1\u001b[0m\n\u001b[1;32m----> 1\u001b[0m f1 \u001b[39m=\u001b[39m criarFracao(\u001b[39m2\u001b[39m,\u001b[39m3\u001b[39m)\n\u001b[0;32m      2\u001b[0m verFracao(f1)\n",
      "\u001b[1;31mNameError\u001b[0m: name 'criarFracao' is not defined"
     ]
    }
   ],
   "source": [
    "f1 = criarFracao(2,3)\n",
    "verFracao(f1)"
   ]
  },
  {
   "cell_type": "markdown",
   "id": "f7cd0ff1",
   "metadata": {},
   "source": [
    "### Simplificação de frações"
   ]
  },
  {
   "cell_type": "code",
   "execution_count": 22,
   "id": "6c8491e5",
   "metadata": {},
   "outputs": [
    {
     "name": "stdout",
     "output_type": "stream",
     "text": [
      "5\n"
     ]
    }
   ],
   "source": [
    "def mdcFraquinho(a,b):\n",
    "    if a > b: #Precisamos de saber qual é o maior \n",
    "        menor = b\n",
    "    else:\n",
    "        menor = a \n",
    "    for n in range(1, menor + 1): #não podemos colocar range(menor) porque começa no zero e não vai até ao número menor \n",
    "        if a % n == 0 and b % n == 0:\n",
    "            mdc = n \n",
    "    return mdc \n",
    "\n",
    "print(mdcFraquinho(15,10))"
   ]
  },
  {
   "cell_type": "code",
   "execution_count": 13,
   "id": "bf936a74",
   "metadata": {},
   "outputs": [
    {
     "name": "stdout",
     "output_type": "stream",
     "text": [
      "5\n"
     ]
    }
   ],
   "source": [
    "def mdcSubtraindo(a,b):\n",
    "    if a == b:\n",
    "        return a \n",
    "    if a > b:\n",
    "        return mdcSubtraindo(b , a - b)\n",
    "    else:\n",
    "        return mdcSubtraindo(a , b - a)\n",
    "\n",
    "print(mdcSubtraindo(10,15))\n"
   ]
  },
  {
   "cell_type": "code",
   "execution_count": 18,
   "id": "4d318c31",
   "metadata": {},
   "outputs": [
    {
     "name": "stdout",
     "output_type": "stream",
     "text": [
      "5\n"
     ]
    }
   ],
   "source": [
    "def mdcResto(a,b):\n",
    "    if a % b == 0:\n",
    "        return b \n",
    "    return mdcResto(b, a % b)\n",
    "print(mdcResto(10,15))"
   ]
  },
  {
   "cell_type": "code",
   "execution_count": 31,
   "id": "87223f99",
   "metadata": {},
   "outputs": [
    {
     "name": "stdout",
     "output_type": "stream",
     "text": [
      "(5, 6)\n"
     ]
    }
   ],
   "source": [
    "def mdcResto1(a,b,count):\n",
    "    count = count + 1\n",
    "    if a % b == 0:\n",
    "        return b, count\n",
    "    return mdcResto1(b, a % b, count)\n",
    "\n",
    "print(mdcResto1(100,15,3))\n"
   ]
  },
  {
   "cell_type": "code",
   "execution_count": 32,
   "id": "8b0fa08f",
   "metadata": {},
   "outputs": [
    {
     "ename": "NameError",
     "evalue": "name 'mdc' is not defined",
     "output_type": "error",
     "traceback": [
      "\u001b[1;31m---------------------------------------------------------------------------\u001b[0m",
      "\u001b[1;31mNameError\u001b[0m                                 Traceback (most recent call last)",
      "Cell \u001b[1;32mIn [32], line 6\u001b[0m\n\u001b[0;32m      3\u001b[0m     \u001b[39mreturn\u001b[39;00m criarFracao(\u001b[39mint\u001b[39m(f[\u001b[39m0\u001b[39m]) \u001b[39m/\u001b[39m mdc_temp, \u001b[39mint\u001b[39m(f[\u001b[39m1\u001b[39m])\u001b[39m/\u001b[39m mdc_temp)\n\u001b[0;32m      5\u001b[0m f3 \u001b[39m=\u001b[39m (\u001b[39m11\u001b[39m,\u001b[39m33\u001b[39m)\n\u001b[1;32m----> 6\u001b[0m \u001b[39mprint\u001b[39m(simplificarFracao(f3))\n",
      "Cell \u001b[1;32mIn [32], line 2\u001b[0m, in \u001b[0;36msimplificarFracao\u001b[1;34m(f)\u001b[0m\n\u001b[0;32m      1\u001b[0m \u001b[39mdef\u001b[39;00m \u001b[39msimplificarFracao\u001b[39m(f):\n\u001b[1;32m----> 2\u001b[0m     mdc_temp \u001b[39m=\u001b[39m mdc(f[\u001b[39m0\u001b[39m],f[\u001b[39m1\u001b[39m])\n\u001b[0;32m      3\u001b[0m     \u001b[39mreturn\u001b[39;00m criarFracao(\u001b[39mint\u001b[39m(f[\u001b[39m0\u001b[39m]) \u001b[39m/\u001b[39m mdc_temp, \u001b[39mint\u001b[39m(f[\u001b[39m1\u001b[39m])\u001b[39m/\u001b[39m mdc_temp)\n",
      "\u001b[1;31mNameError\u001b[0m: name 'mdc' is not defined"
     ]
    }
   ],
   "source": [
    "def simplificarFracao(f):\n",
    "    mdc_temp = mdc(f[0],f[1])\n",
    "    return criarFracao(int(f[0]) / mdc_temp, int(f[1])/ mdc_temp)\n",
    "\n",
    "f3 = (11,33)\n",
    "print(simplificarFracao(f3))"
   ]
  },
  {
   "cell_type": "code",
   "execution_count": null,
   "id": "8821d031",
   "metadata": {},
   "outputs": [],
   "source": [
    "verFracao(simplificarFracao(criarFracao(21, 140)))"
   ]
  },
  {
   "cell_type": "markdown",
   "id": "d52f012f",
   "metadata": {},
   "source": [
    "## Operações sobre frações"
   ]
  },
  {
   "cell_type": "code",
   "execution_count": 27,
   "id": "96ba280b",
   "metadata": {},
   "outputs": [
    {
     "name": "stdout",
     "output_type": "stream",
     "text": [
      "(5, 6)\n"
     ]
    }
   ],
   "source": [
    "def somarFrac(f1, f2):\n",
    "    if f1[1] == f2[1]:\n",
    "        soma = (f1[0] + f2[0],f1[1])\n",
    "    else:\n",
    "        soma = (((f1[0]*f2[1]) + (f2[0]*f1[1])), (f1[1]*f2[1]) )\n",
    "    return soma\n",
    "    \n",
    "f5 = (1,2)\n",
    "f6 = (1,3)\n",
    "print(somarFrac(f5,f6))\n",
    "     "
   ]
  },
  {
   "cell_type": "code",
   "execution_count": 34,
   "id": "a0198bce",
   "metadata": {},
   "outputs": [
    {
     "ename": "NameError",
     "evalue": "name 'criarFracao' is not defined",
     "output_type": "error",
     "traceback": [
      "\u001b[1;31m---------------------------------------------------------------------------\u001b[0m",
      "\u001b[1;31mNameError\u001b[0m                                 Traceback (most recent call last)",
      "Cell \u001b[1;32mIn [34], line 1\u001b[0m\n\u001b[1;32m----> 1\u001b[0m f1 \u001b[39m=\u001b[39m criarFracao(\u001b[39m3\u001b[39m,\u001b[39m5\u001b[39m)\n\u001b[0;32m      2\u001b[0m f2 \u001b[39m=\u001b[39m criarFracao(\u001b[39m5\u001b[39m,\u001b[39m7\u001b[39m)\n\u001b[0;32m      3\u001b[0m listaFrac \u001b[39m=\u001b[39m [f1, f2, criarFracao(\u001b[39m125\u001b[39m,\u001b[39m1000\u001b[39m), (\u001b[39m8\u001b[39m,\u001b[39m12\u001b[39m)]\n",
      "\u001b[1;31mNameError\u001b[0m: name 'criarFracao' is not defined"
     ]
    }
   ],
   "source": [
    "f1 = criarFracao(3,5)\n",
    "f2 = criarFracao(5,7)\n",
    "listaFrac = [f1, f2, criarFracao(125,1000), (8,12)]\n",
    "listaFrac2 = []\n",
    "import random\n",
    "for i in range(1,20):\n",
    "    n = random.randrange(1, 10)\n",
    "    d = random.randrange(2, 20)\n",
    "    listaFrac2.append(criarFracao(n,d))\n",
    "print(listaFrac2)\n",
    "print(listaFrac)"
   ]
  },
  {
   "cell_type": "markdown",
   "id": "e83e4eae",
   "metadata": {},
   "source": [
    "### Soma uma lista de frações"
   ]
  },
  {
   "cell_type": "code",
   "execution_count": 29,
   "id": "402d83f0",
   "metadata": {},
   "outputs": [
    {
     "ename": "NameError",
     "evalue": "name 'simplificarFracao' is not defined",
     "output_type": "error",
     "traceback": [
      "\u001b[1;31m---------------------------------------------------------------------------\u001b[0m",
      "\u001b[1;31mNameError\u001b[0m                                 Traceback (most recent call last)",
      "Cell \u001b[1;32mIn [29], line 7\u001b[0m\n\u001b[0;32m      4\u001b[0m         res \u001b[39m=\u001b[39m simplificarFracao(somarFrac(res,f))\n\u001b[0;32m      5\u001b[0m     \u001b[39mreturn\u001b[39;00m res\n\u001b[1;32m----> 7\u001b[0m \u001b[39mprint\u001b[39m(simplificarFracao(somarListaFrac(listaFrac)))\n",
      "\u001b[1;31mNameError\u001b[0m: name 'simplificarFracao' is not defined"
     ]
    }
   ],
   "source": [
    "def somarListaFrac(lista):\n",
    "    res = lista[0]\n",
    "    for f in lista[1:]: #Técnica de slicing \n",
    "        res = simplificarFracao(somarFrac(res,f))\n",
    "    return res\n",
    "\n",
    "print(simplificarFracao(somarListaFrac(listaFrac)))"
   ]
  },
  {
   "cell_type": "markdown",
   "id": "a88929cc",
   "metadata": {},
   "source": [
    "### Multiplica 2 frações"
   ]
  },
  {
   "cell_type": "code",
   "execution_count": null,
   "id": "519c5358",
   "metadata": {},
   "outputs": [],
   "source": [
    "def multFrac(f1, f2):\n",
    "    # ???\n",
    "    return # ???"
   ]
  },
  {
   "cell_type": "markdown",
   "id": "fcd5b5d6",
   "metadata": {},
   "source": [
    "### Guardar uma lista de frações num ficheiro"
   ]
  },
  {
   "cell_type": "code",
   "execution_count": 38,
   "id": "2840f9b2",
   "metadata": {},
   "outputs": [],
   "source": [
    "def gravaListaFrac(lista):\n",
    "    file = open(\"fracoes.txt\",\"w\")\n",
    "    for fracao in lista:\n",
    "        file.write(str(f1[0])+ \"/\"+ str(f1[1])+ \"\\n\")\n",
    "    file.close()\n",
    "gravaListaFrac(listaFrac)\n"
   ]
  },
  {
   "cell_type": "markdown",
   "id": "0664fcdc",
   "metadata": {},
   "source": [
    "### Recuperar uma lista de frações dum ficheiro"
   ]
  },
  {
   "cell_type": "code",
   "execution_count": 49,
   "id": "82aece6e",
   "metadata": {},
   "outputs": [
    {
     "data": {
      "text/plain": [
       "[(3, 5), (5, 7), (125, 1000), (8, 12)]"
      ]
     },
     "execution_count": 49,
     "metadata": {},
     "output_type": "execute_result"
    }
   ],
   "source": [
    "def carregaListaFrac(fnome):\n",
    "    file = open(fnome,\"r\")\n",
    "    lista = []\n",
    "    for line in file:\n",
    "        fracao = line.split(\"/\")\n",
    "        #fracao[1] = fracao[1].replace(\"\\n\",\"\")\n",
    "        fracao[1] = \n",
    "        #fracao[1] = fracao[1][:-1]\n",
    "        print(fracao)\n",
    "        lista.append\n",
    "    file.close\n",
    "    return listaFrac\n",
    "carregaListaFrac(\"fracoes.txt\")"
   ]
  },
  {
   "cell_type": "code",
   "execution_count": 55,
   "id": "2dd6bda7",
   "metadata": {},
   "outputs": [
    {
     "name": "stdout",
     "output_type": "stream",
     "text": [
      "Hoje é um dia lindo \n"
     ]
    }
   ],
   "source": [
    "x = \"Hoje é um dia lindo ######&&&&&\"\n",
    "x = x.strip(\"&\")\n",
    "x = x.strip(\"#\")\n",
    "print(x)"
   ]
  },
  {
   "cell_type": "markdown",
   "id": "4193a91b",
   "metadata": {},
   "source": [
    "### TPC8: Teste de aferição\n",
    "\n",
    "Resolva os problemas apresentados a seguir."
   ]
  },
  {
   "cell_type": "markdown",
   "id": "4e758271",
   "metadata": {},
   "source": [
    "### tpc1.a) Recebe duas strings, _s1_ e _s2_, e retorna o comprimento da substring inicial de _s1_ que não contem nenhum caráter de _s2_:"
   ]
  },
  {
   "cell_type": "code",
   "execution_count": 19,
   "id": "4ae7f5d0",
   "metadata": {},
   "outputs": [
    {
     "data": {
      "text/plain": [
       "4"
      ]
     },
     "execution_count": 19,
     "metadata": {},
     "output_type": "execute_result"
    }
   ],
   "source": [
    "def inicDiferente(s1, s2):\n",
    "    lista = []\n",
    "    for i in s1[0:4]:\n",
    "        if i not in s2:\n",
    "            lista.append(i)\n",
    "    return len(lista)\n",
    "\n",
    "inicDiferente(\"Está um bom dia...\", \"Hoje é um dia alegre.\")\n",
    "# resultado esperado: 4"
   ]
  },
  {
   "cell_type": "markdown",
   "id": "28cb3dc4",
   "metadata": {},
   "source": [
    "### tpc1.b) Recebe um parâmetro _n_ e lê _n_ números inteiros; no fim retorna quantos dos números lidos são superiores à média dos números lidos:"
   ]
  },
  {
   "cell_type": "code",
   "execution_count": 25,
   "id": "4458c7bc",
   "metadata": {},
   "outputs": [
    {
     "name": "stdout",
     "output_type": "stream",
     "text": [
      "\n",
      " lista: [914, 758, 617, 650, 982] \n",
      " soma: 3921 \n",
      " media784.2 \n",
      " números acima da média5\n"
     ]
    }
   ],
   "source": [
    "import random\n",
    "def acimaMedia(n):\n",
    "    lista = []\n",
    "    j = 0\n",
    "    soma = 0\n",
    "    resultado = 0\n",
    "    while (j<n):\n",
    "        lista.append(random.randint(1,1000))\n",
    "        j = j + 1\n",
    "    for i in lista:\n",
    "        soma = soma + i\n",
    "        media = soma / n\n",
    "        if i > media:\n",
    "            resultado = resultado + 1\n",
    "    listadenumerosaleatorios = \"lista: \" + str(lista)\n",
    "    soma = \"soma: \" + str(soma)\n",
    "    media = \"media\" + str(media)\n",
    "    numerosacima = \"números acima da média\" + str(resultado)\n",
    "    print( \n",
    "        \"\\n\", listadenumerosaleatorios, \"\\n\",\n",
    "        soma, \"\\n\",\n",
    "        media, \"\\n\",\n",
    "        numerosacima)\n",
    "\n",
    "acimaMedia(5)\n",
    "\n"
   ]
  },
  {
   "cell_type": "markdown",
   "id": "e6db31d7",
   "metadata": {},
   "source": [
    "### tpc1.c) Faz o merge de duas listas ordenadas, retornando uma lista ordenada com os elementos das duas listas (__não podes usar nenhuma função de ordenação do Python__):"
   ]
  },
  {
   "cell_type": "code",
   "execution_count": 16,
   "id": "2b5ad344",
   "metadata": {},
   "outputs": [
    {
     "data": {
      "text/plain": [
       "[1, 2, 3, 4, 6, 7, 9, 12]"
      ]
     },
     "execution_count": 16,
     "metadata": {},
     "output_type": "execute_result"
    }
   ],
   "source": [
    "def merge(l1, l2):\n",
    "        lista = []\n",
    "        j= 0\n",
    "        for i in l1:\n",
    "                lista.append(i)\n",
    "                i += 1\n",
    "        for u in l2:\n",
    "                lista.append(u)\n",
    "                u += 1\n",
    "        while (j < len(lista)):\n",
    "                i = 1                                 \n",
    "                while i < len(lista):                   \n",
    "                        if lista[i-1]>lista[i]:              \n",
    "                                lista[i], lista[i-1] = lista[i-1], lista[i]\n",
    "                        i = i + 1 \n",
    "                j = j + 1\n",
    "        return lista\n",
    "\n",
    "merge([1,2,6,9], [3,4,7,12])\n",
    "# Resultado esperado: [1,2,3,4,6,7,9,12]"
   ]
  },
  {
   "cell_type": "markdown",
   "id": "6698b337",
   "metadata": {},
   "source": [
    "### tpc1.d) Recebe o nome de dois ficheiros de texto, _f1_ e _f2_, e indica se são iguais (__True__) no seu conteúdo ou se são diferentes (__False__):"
   ]
  },
  {
   "cell_type": "code",
   "execution_count": 6,
   "id": "54cef309",
   "metadata": {},
   "outputs": [
    {
     "data": {
      "text/plain": [
       "False"
      ]
     },
     "execution_count": 6,
     "metadata": {},
     "output_type": "execute_result"
    }
   ],
   "source": [
    "def figuais(f1, f2):\n",
    "    file1 = open(f1)\n",
    "    file2 = open(f2)\n",
    "    listaa = []\n",
    "    listab = []\n",
    "    Condicao = False\n",
    "    for i in file1:\n",
    "        if i != \"\\n\":\n",
    "            listaa.append(i[:-1])\n",
    "    for j in file2:\n",
    "        if j != \"\\n\":\n",
    "            listab.append(j[:-1])\n",
    "    if listaa==listab:\n",
    "        Condicao = True\n",
    "    return Condicao\n",
    "\n",
    "figuais(\"fracoes.txt\",\"fracoes1.txt\")\n",
    "\n",
    "#print(figuais(\"texto1.txt\", \"texto1.txt\"))\n",
    "#print(figuais(\"texto1.txt\", \"texto2.txt\"))"
   ]
  },
  {
   "cell_type": "markdown",
   "id": "7cd572fc",
   "metadata": {},
   "source": [
    "## Questão 2: Gestão de uma Cinemateca\n",
    "\n",
    "Analise as seguintes estruturas de dados que materializam o modelo de uma cinemateca:"
   ]
  },
  {
   "cell_type": "code",
   "execution_count": 2,
   "id": "76e9e621",
   "metadata": {},
   "outputs": [],
   "source": [
    "# Cinemateca = [Filme]\n",
    "# Pub = (Título, Ano, Elenco, Géneros)\n",
    "# Título = String\n",
    "# Ano = Int\n",
    "# Elenco = [Ator]\n",
    "# Ator = String\n",
    "# Géneros = [Género]\n",
    "# Género = String\n",
    "Filme1 = (\"Meet the Parents\", 2000, [\"Ben Stiller\",\"Robert De Niro\",\n",
    "      \"Blythe Danner\",\"Teri Polo\",\"Owen Wilson\"], [\"Comedy\", \"Drama\"])\n",
    "Filme2 = (\"Men of Honor\", 2000, [\"Robert De Niro\",\"Cuba Gooding, Jr.\",\n",
    "      \"Charlize Theron\"], [\"Biography\", \"Drama\", \"Thriller\"])\n",
    "Filme3 = (\"Analyze That\", 2002, [\"Robert De Niro\",\"Billy Crystal\",\n",
    "      \"Lisa Kudrow\"], [\"Comedy\"])\n",
    "CineUM = [Filme1, Filme2, Filme3]"
   ]
  },
  {
   "cell_type": "markdown",
   "id": "89afc758",
   "metadata": {},
   "source": [
    " e especifique funções que calculem o que se descreve a seguir:"
   ]
  },
  {
   "cell_type": "markdown",
   "id": "2156a0c8",
   "metadata": {},
   "source": [
    "### tpc2.a)  Devolve uma lista dos atores participantes nos filmes armazenados, ordenada alfabeticamente e sem repetições:"
   ]
  },
  {
   "cell_type": "code",
   "execution_count": 7,
   "id": "8a5a2a41",
   "metadata": {},
   "outputs": [
    {
     "name": "stdout",
     "output_type": "stream",
     "text": [
      "['Ben Stiller', 'Billy Crystal', 'Blythe Danner', 'Charlize Theron', 'Cuba Gooding, Jr.', 'Lisa Kudrow', 'Owen Wilson', 'Robert De Niro', 'Teri Polo']\n"
     ]
    }
   ],
   "source": [
    "def atores(cinemateca):\n",
    "    listap = []\n",
    "    for Filme in cinemateca:\n",
    "        Nome, Ano, Elenco, Géneros = Filme\n",
    "        for i in Elenco:\n",
    "            if i not in listap:\n",
    "                listap.append(i)\n",
    "                listap.sort()\n",
    "    return listap\n",
    "\n",
    "print(atores(CineUM))\n",
    "# Resultado esperado: ['Ben Stiller', 'Billy Crystal', 'Blythe Danner', 'Charlize Theron', 'Cuba Gooding, Jr.', 'Lisa Kudrow', 'Owen Wilson', 'Robert De Niro', 'Teri Polo']"
   ]
  },
  {
   "cell_type": "markdown",
   "id": "12f9126b",
   "metadata": {},
   "source": [
    "### tpc2.b)  Devolve uma lista de todos os títulos dos filmes, em ordem alfabética, e de um determinado género passado como argumento:"
   ]
  },
  {
   "cell_type": "code",
   "execution_count": 12,
   "id": "d9dfe30a",
   "metadata": {},
   "outputs": [
    {
     "name": "stdout",
     "output_type": "stream",
     "text": [
      "['Analyze That', 'Meet the Parents']\n"
     ]
    }
   ],
   "source": [
    "def listarPorGenero(cinemateca, genero):\n",
    "    listag = []\n",
    "    for Nome,_, _, Géneros in cinemateca:\n",
    "        for i in Géneros:\n",
    "            if i == genero:\n",
    "                listag.append(Nome)\n",
    "                listag.sort()\n",
    "    return listag\n",
    "\n",
    "print(listarPorGenero(CineUM, \"Comedy\"))\n",
    "# Resultado esperado: ['Analyze That', 'Meet the Parents']"
   ]
  },
  {
   "cell_type": "markdown",
   "id": "1a0f760b",
   "metadata": {},
   "source": [
    "### tpc2.c)  Devolve o título do filme com o maior elenco:"
   ]
  },
  {
   "cell_type": "code",
   "execution_count": 4,
   "id": "a00c85e3",
   "metadata": {},
   "outputs": [
    {
     "name": "stdout",
     "output_type": "stream",
     "text": [
      "Meet the Parents\n"
     ]
    }
   ],
   "source": [
    "def maiorElenco( cinemateca ):\n",
    "    for Nome, _, Elenco, *_ in cinemateca:\n",
    "        maior = 0\n",
    "        if len(Elenco) > maior:\n",
    "            maior = len(Elenco)\n",
    "            return Nome\n",
    "print(maiorElenco(CineUM))\n",
    "# Resultado esperado: Meet the Parents"
   ]
  },
  {
   "cell_type": "markdown",
   "id": "65061d0a",
   "metadata": {},
   "source": [
    "### tpc2.d)  Calcula a distribuição de filmes por Género:"
   ]
  },
  {
   "cell_type": "code",
   "execution_count": 11,
   "id": "dc1adabc",
   "metadata": {},
   "outputs": [
    {
     "data": {
      "text/plain": [
       "{'Comedy': 2, 'Drama': 2, 'Biography': 1, 'Thriller': 1}"
      ]
     },
     "execution_count": 11,
     "metadata": {},
     "output_type": "execute_result"
    }
   ],
   "source": [
    "def filmePorGenero( cinemateca ):\n",
    "    d0= {}\n",
    "    for _, _, _, Géneros in cinemateca:\n",
    "        for i in Géneros:\n",
    "            if i in d0.keys():\n",
    "                d0[i] = d0[i] + 1\n",
    "            else:\n",
    "                d0[i] = 1\n",
    "    return d0\n",
    "filmePorGenero(CineUM)\n",
    "\n",
    "    "
   ]
  },
  {
   "cell_type": "markdown",
   "id": "de46a635",
   "metadata": {},
   "source": [
    "### tpc2.e)  Represente num gráfico de barras a distribuição calculada na alínea anterior (pode usar o material que entender das aulas):"
   ]
  },
  {
   "cell_type": "code",
   "execution_count": 16,
   "id": "4118730d",
   "metadata": {},
   "outputs": [
    {
     "data": {
      "image/png": "[encoded data removed]",
      "text/plain": [
       "<Figure size 640x480 with 1 Axes>"
      ]
     },
     "metadata": {},
     "output_type": "display_data"
    },
    {
     "name": "stdout",
     "output_type": "stream",
     "text": [
      "None\n"
     ]
    }
   ],
   "source": [
    "import matplotlib.pyplot as plt\n",
    "def desenhargrafico(distrib): \n",
    "    plt.figure()\n",
    "    plt.ylabel(\"Nº de filmes\", rotation= 'vertical')\n",
    "    plt.title(\"Distribuição dos Filmes por Género\")\n",
    "    plt.xlabel(\"Géneros\")\n",
    "    plt.bar(distrib.keys(), distrib.values(), color=\"green\")\n",
    "    plt.xticks([x for x in range(0, len(distrib.keys()))], distrib.keys())\n",
    "    plt.show()\n",
    "print(desenhargrafico(filmePorGenero(CineUM)))"
   ]
  }
 ],
 "metadata": {
  "kernelspec": {
   "display_name": "Python 3.10.7 64-bit",
   "language": "python",
   "name": "python3"
  },
  "language_info": {
   "codemirror_mode": {
    "name": "ipython",
    "version": 3
   },
   "file_extension": ".py",
   "mimetype": "text/x-python",
   "name": "python",
   "nbconvert_exporter": "python",
   "pygments_lexer": "ipython3",
   "version": "3.10.7"
  },
  "vscode": {
   "interpreter": {
    "hash": "c6150b4f9d56d789d4d0d45fd785049c780a926bdb2d0e3334e0f685d1f903a3"
   }
  }
 },
 "nbformat": 4,
 "nbformat_minor": 5
}

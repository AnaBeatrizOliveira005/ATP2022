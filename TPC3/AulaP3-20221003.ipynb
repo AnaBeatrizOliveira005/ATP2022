{
 "cells": [
  {
   "cell_type": "markdown",
   "id": "1e545158",
   "metadata": {},
   "source": [
    "# Aula Prática 3 (guião)\n",
    "### Semana de 3 a 7 de Outubro de 2022\n",
    "### José Carlos Ramalho e Luís Cunha\n",
    "### Sinopsis:\n",
    "Algoritmos sobre listas."
   ]
  },
  {
   "cell_type": "markdown",
   "id": "e38d18c4-d7d7-4fea-9bc6-e3f3c903386b",
   "metadata": {},
   "source": [
    "### Exercício 1: Criar uma lista \n",
    "- Defina uma função que recebe um argumento **N** e devolve uma  lista com os números pares até **N**;\n",
    "- Crie um programa que chama a função e imprime a lista resultante."
   ]
  },
  {
   "cell_type": "code",
   "execution_count": 1,
   "id": "af973146-3bb4-4fa8-ba6c-b887b79ccff8",
   "metadata": {},
   "outputs": [
    {
     "name": "stdout",
     "output_type": "stream",
     "text": [
      "A minha lista resultante é [0, 2, 4, 6, 8]\n"
     ]
    }
   ],
   "source": [
    "# Solução do exercício 1\n",
    "def criaLista(N):\n",
    "    lista = []\n",
    "    i=0\n",
    "    while(i<N):\n",
    "        if i % 2 == 0:\n",
    "            lista.append(i)\n",
    "        i=i+1\n",
    "    return lista \n",
    "\n",
    "criaLista(10)\n",
    " \n",
    "print(\"A minha lista resultante é\", criaLista(10))\n",
    "\n"
   ]
  },
  {
   "cell_type": "markdown",
   "id": "bdcbffb0",
   "metadata": {},
   "source": [
    "### Exercício 2: Ler uma lista de N números\n",
    "- Defina uma função que recebe um argumento **N** e lê **N** números armazenando-os numa lista que é devolvida como resultado;\n",
    "- Crie um programa que chama a função e imprime a lista resultante."
   ]
  },
  {
   "cell_type": "code",
   "execution_count": 5,
   "id": "af973146-3bb4-4fa8-ba6c-b887b79ccff8",
   "metadata": {},
   "outputs": [
    {
     "name": "stdout",
     "output_type": "stream",
     "text": [
      "[3.0, 4.0, 5.0, 6.0, 7.0]\n"
     ]
    }
   ],
   "source": [
    "# Solução do exercício 2\n",
    "def leLista(N):\n",
    "    lista=[]\n",
    "    while (N>0):\n",
    "        a=float(input(\"Insira um número:\"))\n",
    "        lista.append(a)\n",
    "        N=N-1\n",
    "    return lista\n",
    "print (leLista(5))\n"
   ]
  },
  {
   "cell_type": "markdown",
   "id": "bdcbffb0",
   "metadata": {},
   "source": [
    "### Exercício 3: Somar uma lista de números\n",
    "- Defina uma função que recebe uma lista como argumento e devolve a soma dos números nessa lista."
   ]
  },
  {
   "cell_type": "code",
   "execution_count": 6,
   "id": "64ad6f7b",
   "metadata": {},
   "outputs": [
    {
     "name": "stdout",
     "output_type": "stream",
     "text": [
      "[0, 2, 4]\n",
      "6\n"
     ]
    }
   ],
   "source": [
    "# Solução do exercício 3\n",
    "def somaLista(lista):\n",
    "    soma=0\n",
    "    for i in lista:\n",
    "        soma=soma+i\n",
    "        i=i+1\n",
    "    return soma\n",
    "\n",
    "print(criaLista(5))\n",
    "print(somaLista(criaLista(5)))"
   ]
  },
  {
   "cell_type": "markdown",
   "id": "bdcbffb0",
   "metadata": {},
   "source": [
    "### Exercício 4: Calcular a média duma lista de números\n",
    "- Defina uma função que recebe uma lista como argumento e devolve a média dos números nessa lista."
   ]
  },
  {
   "cell_type": "code",
   "execution_count": 7,
   "id": "a6c32b2e",
   "metadata": {},
   "outputs": [
    {
     "name": "stdout",
     "output_type": "stream",
     "text": [
      "[0, 2, 4]\n",
      "2.0\n"
     ]
    }
   ],
   "source": [
    "# Solução do exercício 4\n",
    "def mediaLista(lista):\n",
    "    soma=0\n",
    "    for i in lista:\n",
    "        soma=soma+i\n",
    "        i=i+1\n",
    "    return soma/len(lista)\n",
    "\n",
    "\n",
    "print(criaLista(5))\n",
    "print(mediaLista(criaLista(5)))"
   ]
  },
  {
   "cell_type": "markdown",
   "id": "f41ef69b",
   "metadata": {},
   "source": [
    "### Exercício 5: Maior de uma sequência\n",
    "- Defina uma função que recebe uma lista como argumento e devolve o maior número nessa lista."
   ]
  },
  {
   "cell_type": "code",
   "execution_count": 8,
   "id": "86f5b24d",
   "metadata": {},
   "outputs": [
    {
     "name": "stdout",
     "output_type": "stream",
     "text": [
      "5\n"
     ]
    }
   ],
   "source": [
    "# Solução do exercício 5\n",
    "def maiorLista(lista):\n",
    "    maior= lista[0]\n",
    "    for i in lista:\n",
    "        if i>maior:\n",
    "            maior=i\n",
    "    return maior  \n",
    "\n",
    "lista=[1,2,3,4,5]\n",
    "print(maiorLista(lista))"
   ]
  },
  {
   "cell_type": "markdown",
   "id": "d11cdd11",
   "metadata": {},
   "source": [
    "### Exercício 6: Menor de uma sequência\n",
    "- Defina uma função que recebe uma lista como argumento e devolve o menor número nessa lista."
   ]
  },
  {
   "cell_type": "code",
   "execution_count": 9,
   "id": "7549c7d7",
   "metadata": {},
   "outputs": [
    {
     "name": "stdout",
     "output_type": "stream",
     "text": [
      "0\n"
     ]
    }
   ],
   "source": [
    "# Solução do exercício 6\n",
    "def menorLista(lista):\n",
    "    menor=lista[0]\n",
    "    for i in lista:\n",
    "        if i<menor:\n",
    "            menor=i\n",
    "    return menor \n",
    "\n",
    "lista=[0,1,2,3,4]\n",
    "print(menorLista(lista))"
   ]
  },
  {
   "cell_type": "markdown",
   "id": "775a02a5",
   "metadata": {},
   "source": [
    "### Exercício 7: Contar strings\n",
    "- Defina uma função que recebe uma lista de strings como argumento e devolve número de strings nessa lista que:\n",
    "    1. Têm tamanho maior ou igual a 2;\n",
    "    2. Começam e terminam pelo mesmo caracter.\n",
    "#### Input (exemplo)\n",
    "in: ['abc', 'xyz', 'aba', '1221']\n",
    "#### Output (exemplo)\n",
    "out: 2"
   ]
  },
  {
   "cell_type": "code",
   "execution_count": 10,
   "id": "7390bc6a",
   "metadata": {},
   "outputs": [
    {
     "name": "stdout",
     "output_type": "stream",
     "text": [
      "2\n"
     ]
    }
   ],
   "source": [
    "# Solução do exercício 7\n",
    "def contarStringsLista(lista):\n",
    "    total=0\n",
    "    for i in lista:\n",
    "        if len(i)>= 2 and i[0]==i[-1]:\n",
    "            total=total+1\n",
    "    return total \n",
    "print (contarStringsLista (['abc', 'xyz','aba', '1221']))"
   ]
  },
  {
   "cell_type": "markdown",
   "id": "f9ba457b",
   "metadata": {},
   "source": [
    "### Exercício 8: Remover duplicados\n",
    "- Defina uma função que recebe uma lista como argumento e devolve uma nova lista eliminando elementos repetidos."
   ]
  },
  {
   "cell_type": "code",
   "execution_count": 11,
   "id": "0abc61e5",
   "metadata": {},
   "outputs": [
    {
     "data": {
      "text/plain": [
       "[3, 5, 8, 9]"
      ]
     },
     "execution_count": 11,
     "metadata": {},
     "output_type": "execute_result"
    }
   ],
   "source": [
    "# Solução do exercício 8\n",
    "def remDupLista(lista):\n",
    "    res = []\n",
    "    for i in lista:\n",
    "        if i not in res:\n",
    "            res.append(i)\n",
    "    return res \n",
    "remDupLista([3,3,5,5,8,9])"
   ]
  },
  {
   "cell_type": "markdown",
   "id": "9bc471d8",
   "metadata": {},
   "source": [
    "### Exercício 9: eVazia?\n",
    "- Defina uma função que recebe uma lista como argumento e devolve um resultado booleano verdadeiro se a lista estiver vazia."
   ]
  },
  {
   "cell_type": "code",
   "execution_count": 12,
   "id": "18cf2aff",
   "metadata": {},
   "outputs": [
    {
     "name": "stdout",
     "output_type": "stream",
     "text": [
      "True\n",
      "False\n"
     ]
    }
   ],
   "source": [
    "# Solução do exercício 9\n",
    "def eVazia(lista):\n",
    "    if len(lista) == 0:\n",
    "        valor=True\n",
    "    else:\n",
    "        valor=False \n",
    "    return valor \n",
    " \n",
    "lista1=[]\n",
    "lista2=[1,2,3]\n",
    "print(eVazia(lista1))\n",
    "print(eVazia(lista2))\n"
   ]
  },
  {
   "cell_type": "markdown",
   "id": "72b8fac0",
   "metadata": {},
   "source": [
    "### Exercício 10: Copiar lista\n",
    "- Defina uma função que recebe uma lista como argumento e devolve uma nova lista correspondente a uma cópia da lista recebida."
   ]
  },
  {
   "cell_type": "code",
   "execution_count": 13,
   "id": "a61ca503",
   "metadata": {},
   "outputs": [
    {
     "name": "stdout",
     "output_type": "stream",
     "text": [
      "[1, 2, 3, 67]\n"
     ]
    }
   ],
   "source": [
    "# Solução do exercício 10\n",
    "def copiarLista(lista):\n",
    "    list=[]\n",
    "    for i in lista:\n",
    "        list.append(i)\n",
    "    return list\n",
    "lista=[1,2,3,67]\n",
    "print(copiarLista(lista))"
   ]
  },
  {
   "cell_type": "markdown",
   "id": "d170cc50",
   "metadata": {},
   "source": [
    "### Exercício 11: Strings maiores que n carateres\n",
    "- Defina uma função que recebe dois argumentos, uma lista de strings e um número inteiro, e que devolve uma nova lista de strings em que estas têm um comprimento igual ou superior ao valor inteiro passado como argumento."
   ]
  },
  {
   "cell_type": "code",
   "execution_count": 14,
   "id": "1944ef1d",
   "metadata": {},
   "outputs": [
    {
     "name": "stdout",
     "output_type": "stream",
     "text": [
      "['hujihuutu']\n"
     ]
    }
   ],
   "source": [
    "# Solução do exercício 11\n",
    "def stringsMaioresLista(lista, n):\n",
    "    list=[]\n",
    "    for i in lista:\n",
    "        if len(i)>=n:\n",
    "            list.append(i)\n",
    "    return list\n",
    "\n",
    "print(stringsMaioresLista([\"abcde\",\"hujihuutu\",\"ternen\"],9))"
   ]
  },
  {
   "cell_type": "markdown",
   "id": "af46fe06",
   "metadata": {},
   "source": [
    "### Exercício 12: Comum?\n",
    "- Defina uma função que recebe duas listas como argumento, e que devolve o valor booleano verdadeiro se as listas tiverem pelo menos um elemento comum."
   ]
  },
  {
   "cell_type": "code",
   "execution_count": 15,
   "id": "7a2f4413",
   "metadata": {},
   "outputs": [
    {
     "name": "stdout",
     "output_type": "stream",
     "text": [
      "False\n"
     ]
    }
   ],
   "source": [
    "# Solução do exercício 12\n",
    "def haComuns(listaA, listaB):\n",
    "    valor=False\n",
    "    for i in listaA:\n",
    "        if i in listaB:\n",
    "            valor=True\n",
    "    return valor\n",
    "    \n",
    "print(haComuns([1,6,3,3],[5,2,78]))"
   ]
  },
  {
   "cell_type": "markdown",
   "id": "061bae0e",
   "metadata": {},
   "source": [
    "### Exercício 13: Comuns\n",
    "- Defina uma função que recebe duas listas como argumento, e que devolve uma nova lista com os valores comuns às duas listas."
   ]
  },
  {
   "cell_type": "code",
   "execution_count": 16,
   "id": "02db9458",
   "metadata": {},
   "outputs": [
    {
     "name": "stdout",
     "output_type": "stream",
     "text": [
      "[2, 3, 4]\n"
     ]
    }
   ],
   "source": [
    "# Solução do exercício 13\n",
    "def comuns(listaA, listaB):\n",
    "    list=[]\n",
    "    for i in listaA:\n",
    "        if i in listaB:\n",
    "            list.append(i)\n",
    "    return list\n",
    "\n",
    "print (comuns([1,2,3,4],[2,3,4,5]))"
   ]
  },
  {
   "cell_type": "markdown",
   "id": "af4f2b11",
   "metadata": {},
   "source": [
    "### Exercício 14: Únicos\n",
    "- Defina uma função que recebe duas listas como argumento, e que devolve uma nova lista com os valores que apenas existem numa delas."
   ]
  },
  {
   "cell_type": "code",
   "execution_count": 17,
   "id": "01a0d35e",
   "metadata": {},
   "outputs": [
    {
     "name": "stdout",
     "output_type": "stream",
     "text": [
      "[1, 5]\n"
     ]
    }
   ],
   "source": [
    "# Solução do exercício 14\n",
    "def unicos(listaA, listaB):\n",
    "    list=[]\n",
    "    for i in listaA:\n",
    "        if i not in listaB:\n",
    "            list.append(i)\n",
    "    for i in listaB:\n",
    "        if i not in listaA:\n",
    "            list.append(i)\n",
    "    return list     \n",
    "\n",
    "print (unicos([1,2,3,4],[2,3,4,5]))"
   ]
  },
  {
   "cell_type": "markdown",
   "id": "2acbab46",
   "metadata": {},
   "source": [
    "### Exercício 15: indiceDe\n",
    "- Defina uma função que recebe uma lista e um elemento como argumento, e que devolve o índice desse elemento na lista. No caso do elemento não existir na lista deverá devolver o valor -1."
   ]
  },
  {
   "cell_type": "code",
   "execution_count": 22,
   "id": "3891e6c3",
   "metadata": {},
   "outputs": [
    {
     "name": "stdout",
     "output_type": "stream",
     "text": [
      "3\n",
      "-1\n"
     ]
    }
   ],
   "source": [
    "# Solução do exercício 15\n",
    "def unicos(lista, elem):\n",
    "    for i in lista:\n",
    "        if elem == i:\n",
    "            índice=lista.index(i)\n",
    "        else:\n",
    "            índice=-1\n",
    "    return índice\n",
    "\n",
    "print(unicos([1,2,3,4],4))\n",
    "print(unicos([1,2,3,4],5))\n"
   ]
  },
  {
   "cell_type": "markdown",
   "id": "1d9c2fbc",
   "metadata": {},
   "source": [
    "### Exercício 16: estaOrdenada\n",
    "- Defina uma função que recebe uma lista de números e verifica se a mesma está ordenada por ordem crescente."
   ]
  },
  {
   "cell_type": "code",
   "execution_count": 23,
   "id": "fb44546a",
   "metadata": {},
   "outputs": [
    {
     "name": "stdout",
     "output_type": "stream",
     "text": [
      "True\n",
      "False\n"
     ]
    }
   ],
   "source": [
    "# Solução do exercício 16\n",
    "def estaOrdenada(lista):\n",
    "    m=lista[0]\n",
    "    crescente=True\n",
    "    decrescente=True\n",
    "    for i in lista:\n",
    "        if i<m and crescente:\n",
    "            crescente=False \n",
    "        if i>m and decrescente:\n",
    "            decrescente=False\n",
    "        if not crescente and not decrescente:\n",
    "            return False\n",
    "    return True\n",
    "lista1=[1,2,3,4]\n",
    "lista2=[2,1,3,4]\n",
    "print(estaOrdenada(lista1))\n",
    "print(estaOrdenada(lista2))"
   ]
  },
  {
   "cell_type": "markdown",
   "id": "4c48dc90",
   "metadata": {},
   "source": [
    "### Exercício 17: estaOrdenadaCD\n",
    "- Modifique a função do exercício anterior para receber um parâmetro extra, **ordem**, que poderá ter valores \"C\" ou \"D\" e que vai verificar se a lista está ordenada por ordem crescente se **ordem=\"C\"** ou se está ordenada por ordem decrescente se **ordem=\"D\"**."
   ]
  },
  {
   "cell_type": "code",
   "execution_count": 24,
   "id": "f4b83960",
   "metadata": {},
   "outputs": [
    {
     "name": "stdout",
     "output_type": "stream",
     "text": [
      "C\n",
      "A lista está desordenada\n"
     ]
    }
   ],
   "source": [
    "# Solução do exercício 16\n",
    "def estaOrdenadaCD(lista, ordem):\n",
    "    ordem=str(\"A lista está desordenada\")\n",
    "    for i in range (len(lista)):\n",
    "        if sorted(lista)==lista:\n",
    "            ordem=str(\"C\")\n",
    "        if sorted(lista,reverse=True)==lista:\n",
    "            ordem=str(\"D\")\n",
    "    return ordem \n",
    "\n",
    "lista1=[1,2,3,4]\n",
    "lista2=[2,1,3,4]\n",
    "\n",
    "print(estaOrdenadaCD((lista1),0))\n",
    "print(estaOrdenadaCD((lista2),0))\n"
   ]
  },
  {
   "cell_type": "markdown",
   "id": "4193a91b",
   "metadata": {},
   "source": [
    "### TPC3: Aplicação para manipulação de listas de inteiros\n",
    "- Crie uma aplicação em Python que coloca no monitor o seguinte menu:\n",
    "    * (1) Criar Lista \n",
    "    * (2) Ler Lista\n",
    "    * (3) Soma\n",
    "    * (4) Média\n",
    "    * (5) Maior\n",
    "    * (6) Menor\n",
    "    * (7) estaOrdenada por ordem crescente\n",
    "    * (8) estaOrdenada por ordem decrescente\n",
    "    * (9) Procura um elemento\n",
    "    * (0) Sair\n",
    "- O utilizador irá escolher uma das opções introduzindo o número correspondente;\n",
    "- Se a opção não for sair, a aplicação executa a operação pretendida, apresenta o resultado e a seguir apresenta de novo o menu;\n",
    "- Se a opção for sair, a aplicação termina colocando uma mensagem no monitor.\n",
    "\n",
    "* No desenvolvimento da aplicação deverá ter em atenção o seguinte:\n",
    "    - A aplicação terá uma variável interna para guardar uma lista de números;\n",
    "    - Na opção 1, deverá ser criada uma lista de números aleatórios entre 1 e 100 que será guardada na variável interna;\n",
    "    - Na opção 2, deverá ser criada uma lista com números introduzidos pelo utilizador, que será guardada na variável interna;\n",
    "    - Nestas primeiras opções, se a variável interna já tiver uma lista, esta será sobreposta/apagada pela nova lista;\n",
    "    - Na opção 3, será calculada a soma dos elementos na lista no momento;\n",
    "    - Na opção 4, será calculada a média dos elementos na lista no momento;\n",
    "    - Na opção 5, será calculado o maior elemento da lista no momento;\n",
    "    - Na opção 6, será calculado o menor elemento da lista no momento;\n",
    "    - Na opção 7, a aplicação deverá indicar (Sim/Não) se a lista está ordenada por ordem crescente;\n",
    "    - Na opção 8, a aplicação deverá indicar (Sim/Não) se a lista está ordenada por ordem decrescente;\n",
    "    - Na opção 9, a aplicação irá procurar um ellmento na lista, se o encontrar deverá devolver a sua posição;\n",
    "    - Se o utilizador selecionar a opção 0, a aplicação deverá terminar mostrando a lista que está nesse momento guardada."
   ]
  },
  {
   "cell_type": "code",
   "execution_count": 25,
   "id": "86b6e9fd",
   "metadata": {},
   "outputs": [
    {
     "name": "stdout",
     "output_type": "stream",
     "text": [
      "Terás de selecionar uma das seguintes opções: \n",
      "\n",
      "Criar Lista - Prima 1\n",
      "Ler Lista - Prima 2\n",
      "Soma - Prima 3\n",
      "Média - Prima 4\n",
      "Maior - Prima 5\n",
      "Menor - Prima 6\n",
      "Está ordenada por ordem crescente - Prima 7\n",
      "Está ordenada por ordem decrescente - Prima 8\n",
      "Procurar um elemento na lista - Prima 9\n",
      "Sair - Prima 0\n",
      "\n",
      "\n",
      "Caso não tenhas selecionado as opções 1 ou 2, a lista gerada pelo sistema terá 5 elementos!\n",
      "A lista gerada pelo sistema é [10, 53, 45, 100, 91]\n",
      "\n",
      "A opção escolhida foi: 6\n",
      "lista: [10, 53, 45, 100, 91]\n",
      "O menor número na lista é: 10\n",
      "\n",
      "Terás de selecionar uma das seguintes opções: \n",
      "\n",
      "Criar Lista - Prima 1\n",
      "Ler Lista - Prima 2\n",
      "Soma - Prima 3\n",
      "Média - Prima 4\n",
      "Maior - Prima 5\n",
      "Menor - Prima 6\n",
      "Está ordenada por ordem crescente - Prima 7\n",
      "Está ordenada por ordem decrescente - Prima 8\n",
      "Procurar um elemento na lista - Prima 9\n",
      "Sair - Prima 0\n",
      "\n",
      "\n",
      "A opção escolhida foi: 6\n",
      "lista: [10, 53, 45, 100, 91]\n",
      "O menor número na lista é: 10\n",
      "\n",
      "Terás de selecionar uma das seguintes opções: \n",
      "\n",
      "Criar Lista - Prima 1\n",
      "Ler Lista - Prima 2\n",
      "Soma - Prima 3\n",
      "Média - Prima 4\n",
      "Maior - Prima 5\n",
      "Menor - Prima 6\n",
      "Está ordenada por ordem crescente - Prima 7\n",
      "Está ordenada por ordem decrescente - Prima 8\n",
      "Procurar um elemento na lista - Prima 9\n",
      "Sair - Prima 0\n",
      "\n",
      "\n",
      "A opção escolhida foi: 0\n",
      "Acabaste de sair do jogo!\n"
     ]
    }
   ],
   "source": [
    "import random\n",
    "\n",
    "menu = str(\"\"\"Terás de selecionar uma das seguintes opções: \n",
    "\n",
    "Criar Lista - Prima 1\n",
    "Ler Lista - Prima 2\n",
    "Soma - Prima 3\n",
    "Média - Prima 4\n",
    "Maior - Prima 5\n",
    "Menor - Prima 6\n",
    "Está ordenada por ordem crescente - Prima 7\n",
    "Está ordenada por ordem decrescente - Prima 8\n",
    "Procurar um elemento na lista - Prima 9\n",
    "Sair - Prima 0\n",
    "\n",
    "\"\"\")\n",
    "print(menu)\n",
    "\n",
    "print(\"Caso não tenhas selecionado as opções 1 ou 2, a lista gerada pelo sistema terá 5 elementos!\")\n",
    "  \n",
    "lista=[]\n",
    "i=0\n",
    "while i<5:\n",
    "    e=random.randint(1,100)\n",
    "    i=i+1\n",
    "    lista.append(e)\n",
    "print(\"A lista gerada pelo sistema é\", lista)\n",
    "print()\n",
    "\n",
    "n = 9\n",
    "\n",
    "while n != 0:\n",
    "    n= int(input(\"A opção:\"))\n",
    "    print(\"A opção escolhida foi:\",n)\n",
    "    if n>9:\n",
    "        print(\"A opção que selecionaste não pertence ao menu! Tenta novamente!\")\n",
    "        print()\n",
    "        print(menu)\n",
    "\n",
    "    if n == 1:\n",
    "        lista.clear()\n",
    "        N = int(input(\"Quantos números tem a sua lista?\"))\n",
    "        i=0\n",
    "        while (i<N):\n",
    "            a=random.randint(1,100)\n",
    "            lista.append(a)\n",
    "            i=i+1\n",
    "        print(\"A lista gerada é a seguinte:\", lista)\n",
    "        print()\n",
    "        print(menu)\n",
    "    \n",
    "    if n == 2:\n",
    "        lista.clear()\n",
    "        b = int(input(\"Quantos números terá a sua lista?\"))\n",
    "        i=0\n",
    "        while (i<b):\n",
    "            d=int(input(\"Introduza os números que farão parte da lista:\"))\n",
    "            lista.append(d)\n",
    "            i=i+1\n",
    "        print(\"A lista que escolheste é:\", lista)\n",
    "        print()\n",
    "        print(menu)\n",
    "\n",
    "    if n == 3:\n",
    "        print(\"lista:\",lista)\n",
    "        def soma(lista):\n",
    "            soma=0\n",
    "            for i in lista:\n",
    "                soma=soma+i\n",
    "                i=i+1\n",
    "            return soma\n",
    "        print(\"A soma da lista é:\", soma(lista))\n",
    "        print()\n",
    "        print(menu)\n",
    "\n",
    "    if n == 4:\n",
    "        print(\"lista:\",lista)\n",
    "        def media(lista):\n",
    "            soma=0\n",
    "            for i in lista:\n",
    "                soma=soma+i\n",
    "                i=i+1\n",
    "                media=soma/len(lista)\n",
    "            return media \n",
    "        print (\"A média da lista é:\", media(lista))\n",
    "        print()\n",
    "        print(menu)\n",
    "    \n",
    "    if n == 5:\n",
    "        print(\"lista:\",lista)\n",
    "        def maior(lista):\n",
    "            maior=lista[0]\n",
    "            for i in lista:\n",
    "                if i>maior:\n",
    "                    maior = i\n",
    "            return maior\n",
    "        print(\"O maior número na lista é:\", maior(lista))\n",
    "        print()\n",
    "        print(menu)\n",
    "\n",
    "    if n == 6:\n",
    "        print(\"lista:\", lista)\n",
    "        def menor(lista):\n",
    "            menor = lista[0]\n",
    "            for i in lista:\n",
    "                if i<menor:\n",
    "                    menor = i\n",
    "            return menor\n",
    "        print(\"O menor número na lista é:\", menor(lista))\n",
    "        print()\n",
    "        print(menu)\n",
    "    \n",
    "    if n == 7:\n",
    "        print(\"lista:\", lista)\n",
    "        def ordemcrescente(lista):\n",
    "            ordem=0\n",
    "            for i in range (len(lista)):\n",
    "                if sorted(lista)==lista:\n",
    "                    ordem=str(\"Sim\")\n",
    "                else:\n",
    "                    ordem=str(\"Não\")\n",
    "            return ordem\n",
    "        print(\"A lista está em ordem cresecnte?\")\n",
    "        print(ordemcrescente(lista))\n",
    "        print()\n",
    "        print(menu)\n",
    "    \n",
    "    if n == 8:\n",
    "        print(\"lista:\", lista)\n",
    "        def ordemdecrescente(lista):\n",
    "            ordem=0\n",
    "            for i in len(lista):\n",
    "                if sorted(lista,reverse=True)==lista:\n",
    "                    ordem=str(\"Sim\")\n",
    "                else:\n",
    "                    ordem=str(\"Não\")\n",
    "            return ordem\n",
    "        print(\"A lista está em ordem decrescente?\")\n",
    "        print(ordemdecrescente(lista))\n",
    "        print()\n",
    "        print(menu)\n",
    "    \n",
    "    if n == 9:\n",
    "        print(\"lista:\", lista)\n",
    "        def index(lista):\n",
    "            aleatório=int(input(\"Introduza um número\"))\n",
    "            índice=0\n",
    "            if aleatório in lista:\n",
    "                índice=lista.index(aleatório) + 1\n",
    "            else:\n",
    "                índice=\"O número introduzido não pertence à lista\"\n",
    "            return índice\n",
    "        print (\"O número introduzido encontra-se na posição\", index(lista))\n",
    "        print()\n",
    "        print(menu)\n",
    "        \n",
    "if n == 0:\n",
    "        print(\"\"\"Acabaste de sair do jogo!\"\"\")"
   ]
  }
 ],
 "metadata": {
  "kernelspec": {
   "display_name": "Python 3.10.7 64-bit (microsoft store)",
   "language": "python",
   "name": "python3"
  },
  "language_info": {
   "codemirror_mode": {
    "name": "ipython",
    "version": 3
   },
   "file_extension": ".py",
   "mimetype": "text/x-python",
   "name": "python",
   "nbconvert_exporter": "python",
   "pygments_lexer": "ipython3",
   "version": "3.10.7"
  },
  "vscode": {
   "interpreter": {
    "hash": "d559cc457a1e94d66adc361866261b391307eb7f2241f5ad17a7ba0aaa54809f"
   }
  }
 },
 "nbformat": 4,
 "nbformat_minor": 5
}

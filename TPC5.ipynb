{
 "cells": [
  {
   "cell_type": "markdown",
   "id": "1e545158",
   "metadata": {},
   "source": [
    "# Aula Prática 5 (guião)\n",
    "### Semana de 17 a 21 de Outubro de 2022\n",
    "### José Carlos Ramalho e Luís Cunha\n",
    "### Sinopsis:\n",
    "Algoritmos e modelação de problemas com armazenamento em memória secundária."
   ]
  },
  {
   "cell_type": "markdown",
   "id": "1d9c2fbc",
   "metadata": {},
   "source": [
    "### Exercício 1: Polinómios\n",
    "\n",
    "Neste exercício, desenvolva as seguintes alíneas:"
   ]
  },
  {
   "cell_type": "markdown",
   "id": "8ef1ac42",
   "metadata": {},
   "source": [
    "#### a) Pense num modelo para polinómios e instancia os seguintes exemplos:\n",
    "\n",
    "* `x`\n",
    "* `2x + 1`\n",
    "* `7x^5 + 6x^3 - 2x^2 + 27`"
   ]
  },
  {
   "cell_type": "code",
   "execution_count": 3,
   "id": "854085f7",
   "metadata": {},
   "outputs": [],
   "source": [
    "# Solução de 1.a)\n",
    "#Modelar - Criar estruturas de dados que nos permitem representar estes problemas \n",
    "#Polinómio = [Termo]\n",
    "#Termo = (coeficiente,grau)\n",
    "polinomio1 = [(1,1)]\n",
    "\n",
    "polinomio2 = [(2,1),(1,0)]\n",
    "\n",
    "polinomio3 = [(7,5),(6,3),(-2,2),(27,0)]"
   ]
  },
  {
   "cell_type": "markdown",
   "id": "fdc3ff66",
   "metadata": {},
   "source": [
    "#### b) Defina uma função, ou funções, que pede ao utilizador a informação necessária para criar um polinómio, cria esse polinómio e devolve-o como resultado"
   ]
  },
  {
   "cell_type": "code",
   "execution_count": 10,
   "id": "fb44546a",
   "metadata": {},
   "outputs": [
    {
     "data": {
      "text/plain": [
       "[(5, 3), (7, 2), (9, 1), (8, 0)]"
      ]
     },
     "execution_count": 10,
     "metadata": {},
     "output_type": "execute_result"
    }
   ],
   "source": [
    "# Solução de 1.b)\n",
    "def criaPolIn():\n",
    "    p = []\n",
    "    grau = int(input(\"Introduza o grau do Polinómio:\"))\n",
    "    while grau >= 0:\n",
    "        coe = int(input(\"Introduza o coeficiente de grau:\"+ str(grau)))\n",
    "        if coe != 0:\n",
    "            monomio = (coe,grau)\n",
    "            p.append(monomio)\n",
    "            grau = grau - 1\n",
    "    return p\n",
    "criaPolIn()"
   ]
  },
  {
   "cell_type": "markdown",
   "id": "9d3475e4",
   "metadata": {},
   "source": [
    "#### c) Defina uma função que calcula o valor do polinómio dado um valor de `x`"
   ]
  },
  {
   "cell_type": "code",
   "execution_count": 22,
   "id": "c4c8dc32",
   "metadata": {},
   "outputs": [
    {
     "data": {
      "text/plain": [
       "1872"
      ]
     },
     "execution_count": 22,
     "metadata": {},
     "output_type": "execute_result"
    }
   ],
   "source": [
    "# Solução de 1.c) \n",
    "def pot(b,e):                           # definimos a função potência\n",
    "    res = 1\n",
    "    while (e>0):                        # \"b\" é a base e \"e\" é o expoente  \n",
    "        res = b * res   \n",
    "        e = e - 1          \n",
    "    return res \n",
    "def calcPolinomio(p,x):\n",
    "    resultado = 0                     # coe * pot (x,grau)\n",
    "    for termo in p:\n",
    "        coe , grau = termo            # assim conseguimos por o termo a ser um tuplo, se puséssemos ao contrário, o termo adquiria um valor\n",
    "        resultado = coe * pot (x,grau) + resultado\n",
    "    return  resultado\n",
    "\n",
    "calcPolinomio(polinomio3, 3)\n",
    "\n"
   ]
  },
  {
   "cell_type": "markdown",
   "id": "5fa6de75",
   "metadata": {},
   "source": [
    "#### d) Defina uma função que imprima no monitor o polinómio"
   ]
  },
  {
   "cell_type": "code",
   "execution_count": 4,
   "id": "b0716c72",
   "metadata": {},
   "outputs": [
    {
     "name": "stdout",
     "output_type": "stream",
     "text": [
      " + 7x5 + 6x3 + -2x2 + 27x0"
     ]
    }
   ],
   "source": [
    "# Solução de 1.d)\n",
    "def verPolinomio(p):\n",
    "    for monomio in p:\n",
    "        coe, grau = monomio\n",
    "        print (\" + \" + str(coe) + \"x\" + str(grau), end=\"\")\n",
    "verPolinomio(polinomio3)"
   ]
  },
  {
   "cell_type": "markdown",
   "id": "beb31acc",
   "metadata": {},
   "source": [
    "#### e) Defina uma função que calcula o grau de um polinómio dado"
   ]
  },
  {
   "cell_type": "code",
   "execution_count": 24,
   "id": "09816d6e",
   "metadata": {},
   "outputs": [],
   "source": [
    "# Solução de 1.e)\n",
    "def grauPolinomio(p):\n",
    "    for monomio in p:\n",
    "        coe, grau = monomio\n",
    "        for grau in monomio:\n",
    "            maior = 0\n",
    "            while (grau>0):\n",
    "                if grau > maior:\n",
    "                    maior = grau\n",
    "    return maior\n",
    "print (grauPolinomio(polinomio3))"
   ]
  },
  {
   "cell_type": "markdown",
   "id": "0cfe33d8",
   "metadata": {},
   "source": [
    "#### f) Defina uma função que imprime no monitor uma tabela com n linhas: x | p(x)"
   ]
  },
  {
   "cell_type": "code",
   "execution_count": 21,
   "id": "3619f63c",
   "metadata": {},
   "outputs": [
    {
     "ename": "NameError",
     "evalue": "name 'calPol' is not defined",
     "output_type": "error",
     "traceback": [
      "\u001b[1;31m---------------------------------------------------------------------------\u001b[0m",
      "\u001b[1;31mNameError\u001b[0m                                 Traceback (most recent call last)",
      "Cell \u001b[1;32mIn [21], line 7\u001b[0m\n\u001b[0;32m      5\u001b[0m         \u001b[39mprint\u001b[39m ( i,\u001b[39m\"\u001b[39m\u001b[39m|\u001b[39m\u001b[39m\"\u001b[39m, calPol(i,p))\n\u001b[0;32m      6\u001b[0m         i \u001b[39m=\u001b[39m i \u001b[39m+\u001b[39m \u001b[39m1\u001b[39m\n\u001b[1;32m----> 7\u001b[0m \u001b[39mprint\u001b[39m(tabela(polinomio3,\u001b[39m4\u001b[39m))\n",
      "Cell \u001b[1;32mIn [21], line 5\u001b[0m, in \u001b[0;36mtabela\u001b[1;34m(p, linhas)\u001b[0m\n\u001b[0;32m      3\u001b[0m i \u001b[39m=\u001b[39m \u001b[39m0\u001b[39m\n\u001b[0;32m      4\u001b[0m \u001b[39mwhile\u001b[39;00m i \u001b[39m<\u001b[39m linhas:\n\u001b[1;32m----> 5\u001b[0m     \u001b[39mprint\u001b[39m ( i,\u001b[39m\"\u001b[39m\u001b[39m|\u001b[39m\u001b[39m\"\u001b[39m, calPol(i,p))\n\u001b[0;32m      6\u001b[0m     i \u001b[39m=\u001b[39m i \u001b[39m+\u001b[39m \u001b[39m1\u001b[39m\n",
      "\u001b[1;31mNameError\u001b[0m: name 'calPol' is not defined"
     ]
    }
   ],
   "source": [
    "# Solução de 1.f)\n",
    "def tabela(p, linhas):\n",
    "    i = 0\n",
    "    while i < linhas:\n",
    "        print ( i,\"|\", calPol(i,p))\n",
    "        i = i + 1\n",
    "print(tabela(polinomio3,4))"
   ]
  },
  {
   "cell_type": "markdown",
   "id": "df16478c",
   "metadata": {},
   "source": [
    "#### g) Define uma função que dado um polinómio calcula a sua derivada"
   ]
  },
  {
   "cell_type": "code",
   "execution_count": 18,
   "id": "6bd99681",
   "metadata": {},
   "outputs": [
    {
     "name": "stdout",
     "output_type": "stream",
     "text": [
      " + 35x^4 + 18x^2 + -4x^1 + 0x^-1"
     ]
    }
   ],
   "source": [
    "# Solução de 1.g)\n",
    "def derivarPolinomio(p):\n",
    "    for monomio in p:\n",
    "        coe, grau = monomio\n",
    "        print (\" + \" + str(coe*grau) + \"x^\" + str(grau-1), end=\"\")\n",
    "derivarPolinomio(polinomio3)"
   ]
  },
  {
   "cell_type": "markdown",
   "id": "a582ac17",
   "metadata": {},
   "source": [
    "#### h) Defina uma função para guardar um polinómio num ficheiro"
   ]
  },
  {
   "cell_type": "code",
   "execution_count": 5,
   "id": "ab6e59a9",
   "metadata": {},
   "outputs": [],
   "source": [
    "filename = \"ficheiro.txt\"\n",
    "file = open (filename,\"w\")\n",
    "file.write(\"Hello World!\")\n",
    "file.close()"
   ]
  },
  {
   "cell_type": "code",
   "execution_count": 6,
   "id": "3aee15e6",
   "metadata": {},
   "outputs": [
    {
     "name": "stdout",
     "output_type": "stream",
     "text": [
      "Hello World!\n"
     ]
    }
   ],
   "source": [
    "file2 = open(filename,\"r\")\n",
    "for linha in file2:\n",
    "    print(linha)"
   ]
  },
  {
   "cell_type": "code",
   "execution_count": 40,
   "id": "2b3f58dd",
   "metadata": {},
   "outputs": [],
   "source": [
    "# Solução de 1.h)\n",
    "def guardarPolinomio(p, fnome):\n",
    "    file = open(fnome,\"w\")          # guardar para depois usar outra vez \n",
    "    for pol in p:\n",
    "        for termo in pol:\n",
    "            coe, grau = termo\n",
    "            file.write(str(coe) + \";\" + str(grau))\n",
    "            file.write(\"#\")\n",
    "        file.write(\"\\n\")\n",
    "    file.close()\n"
   ]
  },
  {
   "cell_type": "code",
   "execution_count": 9,
   "id": "a1caea14",
   "metadata": {},
   "outputs": [],
   "source": [
    "guardarPolinomio([polinomio1,polinomio2,polinomio3], \"polinomios\")"
   ]
  },
  {
   "cell_type": "markdown",
   "id": "7f7d1410",
   "metadata": {},
   "source": [
    "#### i) Defina uma função para recuperar um polinómio dum ficheiro"
   ]
  },
  {
   "cell_type": "code",
   "execution_count": 8,
   "id": "0bd76de0",
   "metadata": {},
   "outputs": [
    {
     "name": "stdout",
     "output_type": "stream",
     "text": [
      "[[('1', '1')], [('2', '1'), ('1', '0')], [('7', '5'), ('6', '3'), ('-2', '2'), ('27', '0')]]\n"
     ]
    }
   ],
   "source": [
    "def recuperarPolinomio(fnome):\n",
    "    file2 = open(fnome,'r')\n",
    "    listaGrande = []\n",
    "    for line in file2:\n",
    "        listapolinomio=[]\n",
    "        termos=line.split('#')\n",
    "        for t in termos:\n",
    "            elems=t.split(';')\n",
    "            if len(elems) == 2:\n",
    "                coeficiente = elems[0]\n",
    "                grau=elems[1]\n",
    "                termo = (coeficiente,grau)\n",
    "                listapolinomio.append(termo)\n",
    "        listaGrande.append(listapolinomio)\n",
    "    return listaGrande\n",
    "listaPol2 = recuperarPolinomio('polinomios')\n",
    "print(listaPol2) "
   ]
  },
  {
   "cell_type": "markdown",
   "id": "fed2fbc4",
   "metadata": {},
   "source": [
    "#### j) Baseando-se nas funções até agora criadas, crie novas funções para manipular listas de polinómios: criar, ver, guardar e recuperar"
   ]
  },
  {
   "cell_type": "code",
   "execution_count": null,
   "id": "986c8587",
   "metadata": {},
   "outputs": [],
   "source": [
    "# Solução de 1.j)\n",
    "# ..."
   ]
  },
  {
   "cell_type": "markdown",
   "id": "6bea73df",
   "metadata": {},
   "source": [
    "#### k) Junte todas as funções num módulo, `polinomios.py`, e usa-o num pequeno programa exemplo"
   ]
  },
  {
   "cell_type": "code",
   "execution_count": null,
   "id": "82a2401b",
   "metadata": {},
   "outputs": [],
   "source": [
    "# Solução de 1.k)"
   ]
  },
  {
   "cell_type": "markdown",
   "id": "4193a91b",
   "metadata": {},
   "source": [
    "### TPC5: Análise de dados: doença cardíaca\n",
    "\n",
    "Descarregue o ficheiro de dados: `myheart.csv`\n",
    "Crie um programa em Python, conjunto de funções, que responda às seguintes questões:\n",
    "* Crie uma função que lê a informação do ficheiro para um modelo, previamente pensado em memória;\n",
    "* Crie uma função que calcula a distribuição da doença por sexo;\n",
    "* Crie uma função que calcula a distribuição da doença por escalões etários. Considere os seguintes escalões: [30-34], [35-39], [40-44], ...\n",
    "* Crie uma função que calcula a distribuição da doença por níveis de colesterol. Considere um nível igual a um intervalo de 10 unidades, comece no limite inferior e crie os níveis necessários até abranger o limite superior;\n",
    "* Crie uma função que imprime na forma de uma tabela uma distribuição;\n",
    "* Especifique um programa que ao executar apresenta as tabelas correspondentes às distribuições pedidas."
   ]
  },
  {
   "cell_type": "code",
   "execution_count": 31,
   "id": "93bfbee4",
   "metadata": {},
   "outputs": [
    {
     "name": "stdout",
     "output_type": "stream",
     "text": [
      "Terás de selecionar uma das seguintes opções: \n",
      "\n",
      "0 - Sair\n",
      "1 - Ler a informação do ficheiro \n",
      "2 - Calcular a distribuição da doença por sexo\n",
      "3 - Calcular a distribuição da doença por escalões etários \n",
      "4 - Calcular a distribuição da doença por níveis de colesterol\n",
      "5 - Tabela de distribuição\n",
      "\n",
      "\n",
      "A opção escolhida foi: 5\n",
      "1 - Distribuição de doentes por idade\n",
      "2 - Distribuição de doentes por sexo\n",
      "3 - Distribuição de doentes por níveis de colesterol\n",
      "\n",
      "A opção escolhida foi: 2\n",
      "Sexo  |   Nº de pessoas\n",
      "F     |   40\n",
      "M     |   428\n",
      "\n",
      "A opção escolhida foi: 0\n",
      "A opção escolhida em primeiro lugar encerrou.\n",
      "None\n",
      "Terás de selecionar uma das seguintes opções: \n",
      "\n",
      "0 - Sair\n",
      "1 - Ler a informação do ficheiro \n",
      "2 - Calcular a distribuição da doença por sexo\n",
      "3 - Calcular a distribuição da doença por escalões etários \n",
      "4 - Calcular a distribuição da doença por níveis de colesterol\n",
      "5 - Tabela de distribuição\n",
      "\n",
      "\n",
      "A opção escolhida foi: 0\n"
     ]
    }
   ],
   "source": [
    "import csv\n",
    "\n",
    "\n",
    "menu = str(\"\"\"Terás de selecionar uma das seguintes opções: \n",
    "\n",
    "0 - Sair\n",
    "1 - Ler a informação do ficheiro \n",
    "2 - Calcular a distribuição da doença por sexo\n",
    "3 - Calcular a distribuição da doença por escalões etários \n",
    "4 - Calcular a distribuição da doença por níveis de colesterol\n",
    "5 - Tabela de distribuição\n",
    "\n",
    "\"\"\")\n",
    "\n",
    "print(menu)\n",
    "\n",
    "n = 8\n",
    "\n",
    "while n != 0:\n",
    "    n = int(input(\"Introduz a opção escolhida:\"))\n",
    "    print(\"A opção escolhida foi:\",n)\n",
    "    if n == 1:\n",
    "        l = int(input(\"Introduza o número da linha que pretende\"))\n",
    "        def lerInformação(filename,l):\n",
    "            resultado = []\n",
    "            file0 = open(filename,'r')\n",
    "            linhas = csv.DictReader(file0)\n",
    "            for linha in linhas:\n",
    "                resultado.append(linha)\n",
    "            file0.close()\n",
    "            return resultado[l]\n",
    "        print(lerInformação('myheart.csv',l))\n",
    "        print()\n",
    "    \n",
    "    if n == 2:\n",
    "        def dSexo(filename):\n",
    "            file1 = open(filename,'r')\n",
    "            linhas = csv.reader(file1)\n",
    "            dist = {}    \n",
    "            for i in linhas:\n",
    "                if i[1] in dist.keys():\n",
    "                    if i[5] == str(\"1\"): \n",
    "                        dist[i[1]] = dist[i[1]] + 1\n",
    "                else:\n",
    "                    if i[5] == str(\"1\"):\n",
    "                        dist[i[1]] = 1\n",
    "            file1.close()\n",
    "            return dist\n",
    "        print(dSexo('myheart.csv')) \n",
    "        print()\n",
    "                \n",
    "    if n == 3:\n",
    "        def ordenaValores(v):\n",
    "            return v[0]\n",
    "        def distrib(filename):\n",
    "            file2 = open(filename,'r')\n",
    "            linha = csv.reader(file2)\n",
    "            distribo = {}\n",
    "            for i in linha:\n",
    "                if i[0] in distribo.keys():\n",
    "                    if i[5] == str('1'):\n",
    "                        distribo[i[0]] = distribo[i[0]] + 1\n",
    "                else:\n",
    "                    if i[5] == str('1'):\n",
    "                        distribo[i[0]] = 1\n",
    "            valores = list(distribo.items())\n",
    "            valores.sort(key = ordenaValores)\n",
    "            file1.close()\n",
    "            d1 = \"[30,34]\", sum(l[1] for l in valores [0:4])\n",
    "            d2 = \"[35,39]\", sum(l[1] for l in valores [4:9])\n",
    "            d3 = \"[40,44]\", sum(l[1] for l in valores [9:14])\n",
    "            d4 = \"[45,49]\", sum(l[1] for l in valores [14:19])\n",
    "            d5 = \"[50,54]\", sum(l[1] for l in valores [19:24])\n",
    "            d6 = \"[55,59]\", sum(l[1] for l in valores [24:29])\n",
    "            d7 = \"[60,64]\", sum(l[1] for l in valores [29:34])\n",
    "            d8 = \"[65,69]\", sum(l[1] for l in valores [34:39])\n",
    "            d9 = \"[70,74]\", sum(l[1] for l in valores [39:44])\n",
    "            d10 = \"[75,79]\", sum(l[1] for l in valores [44:49])\n",
    "            dicionario = dict([d1,d2,d3,d4,d5,d6,d7,d8,d9,d10])\n",
    "            file2.close()\n",
    "            return dicionario\n",
    "        print (\"A distribuição dos dados por  grupos etários:\",distrib('myheart.csv'))\n",
    "        print()\n",
    "    \n",
    "    if n == 4:\n",
    "        def distribColesterol(filename):\n",
    "            file3 = open(filename,'r')\n",
    "            linha = csv.reader(file3)\n",
    "            dist = {}\n",
    "            for i in linha:\n",
    "                if i[3] in dist.keys():\n",
    "                    if i[5] == str('1'):\n",
    "                        dist[i[3]] = dist[i[3]] + 1\n",
    "                else:\n",
    "                    if i[5] == str('1'):\n",
    "                        dist[i[3]] = 1\n",
    "            valores = list(dist.items())\n",
    "            f = sorted([(l[0], l[1]) for l in valores])\n",
    "            c1 = \"[0,49]   \", sum(l[1] for l in valores [0:1])\n",
    "            c2 = \"[50,99]  \", sum(l[1] for l in valores [1:2])\n",
    "            c3 = \"[100,109]\", sum(l[1] for l in valores [2:6])\n",
    "            c4 = \"[110,119]\", sum(l[1] for l in valores [6:8])\n",
    "            c5 = \"[120,129]\", sum(l[1] for l in valores [8:10])\n",
    "            c6 = \"[130,139]\", sum(l[1] for l in valores [10:12])\n",
    "            c7 = \"[140,149]\", sum(l[1] for l in valores [12:14])\n",
    "            c8 = \"[150,159]\", sum(l[1] for l in valores [14:16])\n",
    "            c9 = \"[160,169]\", sum(l[1] for l in valores [16:19])\n",
    "            c10 = \"[170,179]\", sum(l[1] for l in valores [19:22])\n",
    "            c11 = \"[180,189]\", sum(l[1] for l in valores [22:25])\n",
    "            c12 = \"[190,199]\", sum(l[1] for l in valores [25:28])\n",
    "            c13 = \"[200,209]\", sum(l[1] for l in valores [28:32])\n",
    "            c14 = \"[210,219]\", sum(l[1] for l in valores [32:34])\n",
    "            c15 = \"[220,229]\", sum(l[1] for l in valores [34:36])\n",
    "            c16 = \"[230,239]\", sum(l[1] for l in valores [36:39])\n",
    "            c17 = \"[240,249]\", sum(l[1] for l in valores [39:41])\n",
    "            c18 = \"[250,259]\", sum(l[1] for l in valores [41:43])\n",
    "            c19 = \"[260,269]\", sum(l[1] for l in valores [43:46])\n",
    "            c20 = \"[270,279]\", sum(l[1] for l in valores [46:49])\n",
    "            c21 = \"[280,289]\", sum(l[1] for l in valores [49:51])\n",
    "            c22 = \"[290,299]\", sum(l[1] for l in valores [51:53])\n",
    "            c23 = \"[300,...]\", sum(l[1] for l in valores [53:70])\n",
    "            dicionario1 = dict([c1,c2,c3,c4,c5,c6,c7,c8,c9,c10,c11,c12,c13,c14,c15,c16,c17,c18,c19,c20,c21,c22,c23])\n",
    "            file3.close()\n",
    "            return dicionario1\n",
    "        print (\"A distribuição dos dados por  níveis de colesterol:\",distribColesterol('myheart.csv'))\n",
    "        print()\n",
    "           \n",
    "    if n == 5:\n",
    "        print(\"1 - Distribuição de doentes por idade\")\n",
    "        print(\"2 - Distribuição de doentes por sexo\")\n",
    "        print(\"3 - Distribuição de doentes por níveis de colesterol\")\n",
    "        print()\n",
    "        c = 1 \n",
    "        def criarTabela(c):\n",
    "            while c!=0:\n",
    "                c = int(input(\"Introduza o número da distribuição que pretende observar:\"))\n",
    "                print(\"A opção escolhida foi:\",c)\n",
    "                if c == 1:\n",
    "                    print(\"Idade     |   Nº de pessoas\")\n",
    "                    d = list(distrib('myheart.csv').items())\n",
    "                    for i in d:\n",
    "                        print(i[0],\"  |  \",i[1])\n",
    "                        print()\n",
    "            \n",
    "                if c == 2:\n",
    "                    print(\"Sexo  |   Nº de pessoas\")\n",
    "                    d1 = list(dSexo('myheart.csv').items())\n",
    "                    for x in d1:\n",
    "                        print(x[0],\"    |  \",x[1])\n",
    "                    print()\n",
    "\n",
    "                if c == 3:\n",
    "                    print()\n",
    "                    print(\"Colesterol    |   Nº de pessoas\")\n",
    "                    d2 = list(distribColesterol('myheart.csv').items())\n",
    "                    for z in d2:\n",
    "                        print(z[0],\"      |    \",z[1])\n",
    "                    print()\n",
    "\n",
    "            if c == 0:\n",
    "                print(\"A opção escolhida em primeiro lugar encerrou.\")\n",
    "        print(criarTabela(c))\n",
    "        print(menu)\n",
    "        \n"
   ]
  }
 ],
 "metadata": {
  "kernelspec": {
   "display_name": "Python 3.10.7 64-bit",
   "language": "python",
   "name": "python3"
  },
  "language_info": {
   "codemirror_mode": {
    "name": "ipython",
    "version": 3
   },
   "file_extension": ".py",
   "mimetype": "text/x-python",
   "name": "python",
   "nbconvert_exporter": "python",
   "pygments_lexer": "ipython3",
   "version": "3.10.7"
  },
  "vscode": {
   "interpreter": {
    "hash": "c6150b4f9d56d789d4d0d45fd785049c780a926bdb2d0e3334e0f685d1f903a3"
   }
  }
 },
 "nbformat": 4,
 "nbformat_minor": 5
}
